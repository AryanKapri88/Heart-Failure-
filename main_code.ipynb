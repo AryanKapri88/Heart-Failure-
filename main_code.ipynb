{
 "cells": [
  {
   "cell_type": "code",
   "execution_count": 4,
   "id": "f39aa091",
   "metadata": {},
   "outputs": [],
   "source": [
    "import pandas as pd\n",
    "import numpy as np\n",
    "import matplotlib.pyplot as plt\n",
    "import seaborn as sns\n",
    "%matplotlib inline\n",
    "np.random.seed(145)"
   ]
  },
  {
   "cell_type": "code",
   "execution_count": 5,
   "id": "ab8d4afe",
   "metadata": {},
   "outputs": [
    {
     "data": {
      "text/html": [
       "<div>\n",
       "<style scoped>\n",
       "    .dataframe tbody tr th:only-of-type {\n",
       "        vertical-align: middle;\n",
       "    }\n",
       "\n",
       "    .dataframe tbody tr th {\n",
       "        vertical-align: top;\n",
       "    }\n",
       "\n",
       "    .dataframe thead th {\n",
       "        text-align: right;\n",
       "    }\n",
       "</style>\n",
       "<table border=\"1\" class=\"dataframe\">\n",
       "  <thead>\n",
       "    <tr style=\"text-align: right;\">\n",
       "      <th></th>\n",
       "      <th>Age</th>\n",
       "      <th>Sex</th>\n",
       "      <th>ChestPainType</th>\n",
       "      <th>RestingBP</th>\n",
       "      <th>Cholesterol</th>\n",
       "      <th>FastingBS</th>\n",
       "      <th>RestingECG</th>\n",
       "      <th>MaxHR</th>\n",
       "      <th>ExerciseAngina</th>\n",
       "      <th>Oldpeak</th>\n",
       "      <th>ST_Slope</th>\n",
       "      <th>HeartDisease</th>\n",
       "    </tr>\n",
       "  </thead>\n",
       "  <tbody>\n",
       "    <tr>\n",
       "      <th>0</th>\n",
       "      <td>40</td>\n",
       "      <td>M</td>\n",
       "      <td>ATA</td>\n",
       "      <td>140</td>\n",
       "      <td>289</td>\n",
       "      <td>0</td>\n",
       "      <td>Normal</td>\n",
       "      <td>172</td>\n",
       "      <td>N</td>\n",
       "      <td>0.0</td>\n",
       "      <td>Up</td>\n",
       "      <td>0</td>\n",
       "    </tr>\n",
       "    <tr>\n",
       "      <th>1</th>\n",
       "      <td>49</td>\n",
       "      <td>F</td>\n",
       "      <td>NAP</td>\n",
       "      <td>160</td>\n",
       "      <td>180</td>\n",
       "      <td>0</td>\n",
       "      <td>Normal</td>\n",
       "      <td>156</td>\n",
       "      <td>N</td>\n",
       "      <td>1.0</td>\n",
       "      <td>Flat</td>\n",
       "      <td>1</td>\n",
       "    </tr>\n",
       "    <tr>\n",
       "      <th>2</th>\n",
       "      <td>37</td>\n",
       "      <td>M</td>\n",
       "      <td>ATA</td>\n",
       "      <td>130</td>\n",
       "      <td>283</td>\n",
       "      <td>0</td>\n",
       "      <td>ST</td>\n",
       "      <td>98</td>\n",
       "      <td>N</td>\n",
       "      <td>0.0</td>\n",
       "      <td>Up</td>\n",
       "      <td>0</td>\n",
       "    </tr>\n",
       "    <tr>\n",
       "      <th>3</th>\n",
       "      <td>48</td>\n",
       "      <td>F</td>\n",
       "      <td>ASY</td>\n",
       "      <td>138</td>\n",
       "      <td>214</td>\n",
       "      <td>0</td>\n",
       "      <td>Normal</td>\n",
       "      <td>108</td>\n",
       "      <td>Y</td>\n",
       "      <td>1.5</td>\n",
       "      <td>Flat</td>\n",
       "      <td>1</td>\n",
       "    </tr>\n",
       "    <tr>\n",
       "      <th>4</th>\n",
       "      <td>54</td>\n",
       "      <td>M</td>\n",
       "      <td>NAP</td>\n",
       "      <td>150</td>\n",
       "      <td>195</td>\n",
       "      <td>0</td>\n",
       "      <td>Normal</td>\n",
       "      <td>122</td>\n",
       "      <td>N</td>\n",
       "      <td>0.0</td>\n",
       "      <td>Up</td>\n",
       "      <td>0</td>\n",
       "    </tr>\n",
       "    <tr>\n",
       "      <th>...</th>\n",
       "      <td>...</td>\n",
       "      <td>...</td>\n",
       "      <td>...</td>\n",
       "      <td>...</td>\n",
       "      <td>...</td>\n",
       "      <td>...</td>\n",
       "      <td>...</td>\n",
       "      <td>...</td>\n",
       "      <td>...</td>\n",
       "      <td>...</td>\n",
       "      <td>...</td>\n",
       "      <td>...</td>\n",
       "    </tr>\n",
       "    <tr>\n",
       "      <th>913</th>\n",
       "      <td>45</td>\n",
       "      <td>M</td>\n",
       "      <td>TA</td>\n",
       "      <td>110</td>\n",
       "      <td>264</td>\n",
       "      <td>0</td>\n",
       "      <td>Normal</td>\n",
       "      <td>132</td>\n",
       "      <td>N</td>\n",
       "      <td>1.2</td>\n",
       "      <td>Flat</td>\n",
       "      <td>1</td>\n",
       "    </tr>\n",
       "    <tr>\n",
       "      <th>914</th>\n",
       "      <td>68</td>\n",
       "      <td>M</td>\n",
       "      <td>ASY</td>\n",
       "      <td>144</td>\n",
       "      <td>193</td>\n",
       "      <td>1</td>\n",
       "      <td>Normal</td>\n",
       "      <td>141</td>\n",
       "      <td>N</td>\n",
       "      <td>3.4</td>\n",
       "      <td>Flat</td>\n",
       "      <td>1</td>\n",
       "    </tr>\n",
       "    <tr>\n",
       "      <th>915</th>\n",
       "      <td>57</td>\n",
       "      <td>M</td>\n",
       "      <td>ASY</td>\n",
       "      <td>130</td>\n",
       "      <td>131</td>\n",
       "      <td>0</td>\n",
       "      <td>Normal</td>\n",
       "      <td>115</td>\n",
       "      <td>Y</td>\n",
       "      <td>1.2</td>\n",
       "      <td>Flat</td>\n",
       "      <td>1</td>\n",
       "    </tr>\n",
       "    <tr>\n",
       "      <th>916</th>\n",
       "      <td>57</td>\n",
       "      <td>F</td>\n",
       "      <td>ATA</td>\n",
       "      <td>130</td>\n",
       "      <td>236</td>\n",
       "      <td>0</td>\n",
       "      <td>LVH</td>\n",
       "      <td>174</td>\n",
       "      <td>N</td>\n",
       "      <td>0.0</td>\n",
       "      <td>Flat</td>\n",
       "      <td>1</td>\n",
       "    </tr>\n",
       "    <tr>\n",
       "      <th>917</th>\n",
       "      <td>38</td>\n",
       "      <td>M</td>\n",
       "      <td>NAP</td>\n",
       "      <td>138</td>\n",
       "      <td>175</td>\n",
       "      <td>0</td>\n",
       "      <td>Normal</td>\n",
       "      <td>173</td>\n",
       "      <td>N</td>\n",
       "      <td>0.0</td>\n",
       "      <td>Up</td>\n",
       "      <td>0</td>\n",
       "    </tr>\n",
       "  </tbody>\n",
       "</table>\n",
       "<p>918 rows × 12 columns</p>\n",
       "</div>"
      ],
      "text/plain": [
       "     Age Sex ChestPainType  RestingBP  Cholesterol  FastingBS RestingECG  \\\n",
       "0     40   M           ATA        140          289          0     Normal   \n",
       "1     49   F           NAP        160          180          0     Normal   \n",
       "2     37   M           ATA        130          283          0         ST   \n",
       "3     48   F           ASY        138          214          0     Normal   \n",
       "4     54   M           NAP        150          195          0     Normal   \n",
       "..   ...  ..           ...        ...          ...        ...        ...   \n",
       "913   45   M            TA        110          264          0     Normal   \n",
       "914   68   M           ASY        144          193          1     Normal   \n",
       "915   57   M           ASY        130          131          0     Normal   \n",
       "916   57   F           ATA        130          236          0        LVH   \n",
       "917   38   M           NAP        138          175          0     Normal   \n",
       "\n",
       "     MaxHR ExerciseAngina  Oldpeak ST_Slope  HeartDisease  \n",
       "0      172              N      0.0       Up             0  \n",
       "1      156              N      1.0     Flat             1  \n",
       "2       98              N      0.0       Up             0  \n",
       "3      108              Y      1.5     Flat             1  \n",
       "4      122              N      0.0       Up             0  \n",
       "..     ...            ...      ...      ...           ...  \n",
       "913    132              N      1.2     Flat             1  \n",
       "914    141              N      3.4     Flat             1  \n",
       "915    115              Y      1.2     Flat             1  \n",
       "916    174              N      0.0     Flat             1  \n",
       "917    173              N      0.0       Up             0  \n",
       "\n",
       "[918 rows x 12 columns]"
      ]
     },
     "execution_count": 5,
     "metadata": {},
     "output_type": "execute_result"
    }
   ],
   "source": [
    "data=pd.read_csv('heart_failure.csv')\n",
    "data"
   ]
  },
  {
   "cell_type": "code",
   "execution_count": 6,
   "id": "811d825d",
   "metadata": {},
   "outputs": [
    {
     "data": {
      "text/html": [
       "<div>\n",
       "<style scoped>\n",
       "    .dataframe tbody tr th:only-of-type {\n",
       "        vertical-align: middle;\n",
       "    }\n",
       "\n",
       "    .dataframe tbody tr th {\n",
       "        vertical-align: top;\n",
       "    }\n",
       "\n",
       "    .dataframe thead th {\n",
       "        text-align: right;\n",
       "    }\n",
       "</style>\n",
       "<table border=\"1\" class=\"dataframe\">\n",
       "  <thead>\n",
       "    <tr style=\"text-align: right;\">\n",
       "      <th></th>\n",
       "      <th>Age</th>\n",
       "      <th>Sex</th>\n",
       "      <th>ChestPainType</th>\n",
       "      <th>RestingBP</th>\n",
       "      <th>Cholesterol</th>\n",
       "      <th>FastingBS</th>\n",
       "      <th>RestingECG</th>\n",
       "      <th>MaxHR</th>\n",
       "      <th>ExerciseAngina</th>\n",
       "      <th>Oldpeak</th>\n",
       "      <th>ST_Slope</th>\n",
       "      <th>HeartDisease</th>\n",
       "    </tr>\n",
       "  </thead>\n",
       "  <tbody>\n",
       "    <tr>\n",
       "      <th>0</th>\n",
       "      <td>40</td>\n",
       "      <td>M</td>\n",
       "      <td>ATA</td>\n",
       "      <td>140</td>\n",
       "      <td>289</td>\n",
       "      <td>0</td>\n",
       "      <td>Normal</td>\n",
       "      <td>172</td>\n",
       "      <td>N</td>\n",
       "      <td>0.0</td>\n",
       "      <td>Up</td>\n",
       "      <td>0</td>\n",
       "    </tr>\n",
       "    <tr>\n",
       "      <th>1</th>\n",
       "      <td>49</td>\n",
       "      <td>F</td>\n",
       "      <td>NAP</td>\n",
       "      <td>160</td>\n",
       "      <td>180</td>\n",
       "      <td>0</td>\n",
       "      <td>Normal</td>\n",
       "      <td>156</td>\n",
       "      <td>N</td>\n",
       "      <td>1.0</td>\n",
       "      <td>Flat</td>\n",
       "      <td>1</td>\n",
       "    </tr>\n",
       "    <tr>\n",
       "      <th>2</th>\n",
       "      <td>37</td>\n",
       "      <td>M</td>\n",
       "      <td>ATA</td>\n",
       "      <td>130</td>\n",
       "      <td>283</td>\n",
       "      <td>0</td>\n",
       "      <td>ST</td>\n",
       "      <td>98</td>\n",
       "      <td>N</td>\n",
       "      <td>0.0</td>\n",
       "      <td>Up</td>\n",
       "      <td>0</td>\n",
       "    </tr>\n",
       "    <tr>\n",
       "      <th>3</th>\n",
       "      <td>48</td>\n",
       "      <td>F</td>\n",
       "      <td>ASY</td>\n",
       "      <td>138</td>\n",
       "      <td>214</td>\n",
       "      <td>0</td>\n",
       "      <td>Normal</td>\n",
       "      <td>108</td>\n",
       "      <td>Y</td>\n",
       "      <td>1.5</td>\n",
       "      <td>Flat</td>\n",
       "      <td>1</td>\n",
       "    </tr>\n",
       "    <tr>\n",
       "      <th>4</th>\n",
       "      <td>54</td>\n",
       "      <td>M</td>\n",
       "      <td>NAP</td>\n",
       "      <td>150</td>\n",
       "      <td>195</td>\n",
       "      <td>0</td>\n",
       "      <td>Normal</td>\n",
       "      <td>122</td>\n",
       "      <td>N</td>\n",
       "      <td>0.0</td>\n",
       "      <td>Up</td>\n",
       "      <td>0</td>\n",
       "    </tr>\n",
       "  </tbody>\n",
       "</table>\n",
       "</div>"
      ],
      "text/plain": [
       "   Age Sex ChestPainType  RestingBP  Cholesterol  FastingBS RestingECG  MaxHR  \\\n",
       "0   40   M           ATA        140          289          0     Normal    172   \n",
       "1   49   F           NAP        160          180          0     Normal    156   \n",
       "2   37   M           ATA        130          283          0         ST     98   \n",
       "3   48   F           ASY        138          214          0     Normal    108   \n",
       "4   54   M           NAP        150          195          0     Normal    122   \n",
       "\n",
       "  ExerciseAngina  Oldpeak ST_Slope  HeartDisease  \n",
       "0              N      0.0       Up             0  \n",
       "1              N      1.0     Flat             1  \n",
       "2              N      0.0       Up             0  \n",
       "3              Y      1.5     Flat             1  \n",
       "4              N      0.0       Up             0  "
      ]
     },
     "execution_count": 6,
     "metadata": {},
     "output_type": "execute_result"
    }
   ],
   "source": [
    "data.head()"
   ]
  },
  {
   "cell_type": "code",
   "execution_count": 7,
   "id": "aac55047",
   "metadata": {},
   "outputs": [
    {
     "data": {
      "text/html": [
       "<div>\n",
       "<style scoped>\n",
       "    .dataframe tbody tr th:only-of-type {\n",
       "        vertical-align: middle;\n",
       "    }\n",
       "\n",
       "    .dataframe tbody tr th {\n",
       "        vertical-align: top;\n",
       "    }\n",
       "\n",
       "    .dataframe thead th {\n",
       "        text-align: right;\n",
       "    }\n",
       "</style>\n",
       "<table border=\"1\" class=\"dataframe\">\n",
       "  <thead>\n",
       "    <tr style=\"text-align: right;\">\n",
       "      <th></th>\n",
       "      <th>Age</th>\n",
       "      <th>Sex</th>\n",
       "      <th>ChestPainType</th>\n",
       "      <th>RestingBP</th>\n",
       "      <th>Cholesterol</th>\n",
       "      <th>FastingBS</th>\n",
       "      <th>RestingECG</th>\n",
       "      <th>MaxHR</th>\n",
       "      <th>ExerciseAngina</th>\n",
       "      <th>Oldpeak</th>\n",
       "      <th>ST_Slope</th>\n",
       "      <th>HeartDisease</th>\n",
       "    </tr>\n",
       "  </thead>\n",
       "  <tbody>\n",
       "    <tr>\n",
       "      <th>913</th>\n",
       "      <td>45</td>\n",
       "      <td>M</td>\n",
       "      <td>TA</td>\n",
       "      <td>110</td>\n",
       "      <td>264</td>\n",
       "      <td>0</td>\n",
       "      <td>Normal</td>\n",
       "      <td>132</td>\n",
       "      <td>N</td>\n",
       "      <td>1.2</td>\n",
       "      <td>Flat</td>\n",
       "      <td>1</td>\n",
       "    </tr>\n",
       "    <tr>\n",
       "      <th>914</th>\n",
       "      <td>68</td>\n",
       "      <td>M</td>\n",
       "      <td>ASY</td>\n",
       "      <td>144</td>\n",
       "      <td>193</td>\n",
       "      <td>1</td>\n",
       "      <td>Normal</td>\n",
       "      <td>141</td>\n",
       "      <td>N</td>\n",
       "      <td>3.4</td>\n",
       "      <td>Flat</td>\n",
       "      <td>1</td>\n",
       "    </tr>\n",
       "    <tr>\n",
       "      <th>915</th>\n",
       "      <td>57</td>\n",
       "      <td>M</td>\n",
       "      <td>ASY</td>\n",
       "      <td>130</td>\n",
       "      <td>131</td>\n",
       "      <td>0</td>\n",
       "      <td>Normal</td>\n",
       "      <td>115</td>\n",
       "      <td>Y</td>\n",
       "      <td>1.2</td>\n",
       "      <td>Flat</td>\n",
       "      <td>1</td>\n",
       "    </tr>\n",
       "    <tr>\n",
       "      <th>916</th>\n",
       "      <td>57</td>\n",
       "      <td>F</td>\n",
       "      <td>ATA</td>\n",
       "      <td>130</td>\n",
       "      <td>236</td>\n",
       "      <td>0</td>\n",
       "      <td>LVH</td>\n",
       "      <td>174</td>\n",
       "      <td>N</td>\n",
       "      <td>0.0</td>\n",
       "      <td>Flat</td>\n",
       "      <td>1</td>\n",
       "    </tr>\n",
       "    <tr>\n",
       "      <th>917</th>\n",
       "      <td>38</td>\n",
       "      <td>M</td>\n",
       "      <td>NAP</td>\n",
       "      <td>138</td>\n",
       "      <td>175</td>\n",
       "      <td>0</td>\n",
       "      <td>Normal</td>\n",
       "      <td>173</td>\n",
       "      <td>N</td>\n",
       "      <td>0.0</td>\n",
       "      <td>Up</td>\n",
       "      <td>0</td>\n",
       "    </tr>\n",
       "  </tbody>\n",
       "</table>\n",
       "</div>"
      ],
      "text/plain": [
       "     Age Sex ChestPainType  RestingBP  Cholesterol  FastingBS RestingECG  \\\n",
       "913   45   M            TA        110          264          0     Normal   \n",
       "914   68   M           ASY        144          193          1     Normal   \n",
       "915   57   M           ASY        130          131          0     Normal   \n",
       "916   57   F           ATA        130          236          0        LVH   \n",
       "917   38   M           NAP        138          175          0     Normal   \n",
       "\n",
       "     MaxHR ExerciseAngina  Oldpeak ST_Slope  HeartDisease  \n",
       "913    132              N      1.2     Flat             1  \n",
       "914    141              N      3.4     Flat             1  \n",
       "915    115              Y      1.2     Flat             1  \n",
       "916    174              N      0.0     Flat             1  \n",
       "917    173              N      0.0       Up             0  "
      ]
     },
     "execution_count": 7,
     "metadata": {},
     "output_type": "execute_result"
    }
   ],
   "source": [
    "data.tail()"
   ]
  },
  {
   "cell_type": "code",
   "execution_count": 8,
   "id": "7052b812",
   "metadata": {},
   "outputs": [
    {
     "name": "stdout",
     "output_type": "stream",
     "text": [
      "<class 'pandas.core.frame.DataFrame'>\n",
      "RangeIndex: 918 entries, 0 to 917\n",
      "Data columns (total 12 columns):\n",
      " #   Column          Non-Null Count  Dtype  \n",
      "---  ------          --------------  -----  \n",
      " 0   Age             918 non-null    int64  \n",
      " 1   Sex             918 non-null    object \n",
      " 2   ChestPainType   918 non-null    object \n",
      " 3   RestingBP       918 non-null    int64  \n",
      " 4   Cholesterol     918 non-null    int64  \n",
      " 5   FastingBS       918 non-null    int64  \n",
      " 6   RestingECG      918 non-null    object \n",
      " 7   MaxHR           918 non-null    int64  \n",
      " 8   ExerciseAngina  918 non-null    object \n",
      " 9   Oldpeak         918 non-null    float64\n",
      " 10  ST_Slope        918 non-null    object \n",
      " 11  HeartDisease    918 non-null    int64  \n",
      "dtypes: float64(1), int64(6), object(5)\n",
      "memory usage: 86.2+ KB\n"
     ]
    }
   ],
   "source": [
    "data.info()"
   ]
  },
  {
   "cell_type": "code",
   "execution_count": 9,
   "id": "8e684744",
   "metadata": {},
   "outputs": [],
   "source": [
    "data['FastingBS'] = data.FastingBS.astype('int')\n",
    "data['HeartDisease']=data.HeartDisease.astype('object')  #typecasting"
   ]
  },
  {
   "cell_type": "code",
   "execution_count": 10,
   "id": "c2affb94",
   "metadata": {},
   "outputs": [
    {
     "name": "stdout",
     "output_type": "stream",
     "text": [
      "<class 'pandas.core.frame.DataFrame'>\n",
      "RangeIndex: 918 entries, 0 to 917\n",
      "Data columns (total 12 columns):\n",
      " #   Column          Non-Null Count  Dtype  \n",
      "---  ------          --------------  -----  \n",
      " 0   Age             918 non-null    int64  \n",
      " 1   Sex             918 non-null    object \n",
      " 2   ChestPainType   918 non-null    object \n",
      " 3   RestingBP       918 non-null    int64  \n",
      " 4   Cholesterol     918 non-null    int64  \n",
      " 5   FastingBS       918 non-null    int32  \n",
      " 6   RestingECG      918 non-null    object \n",
      " 7   MaxHR           918 non-null    int64  \n",
      " 8   ExerciseAngina  918 non-null    object \n",
      " 9   Oldpeak         918 non-null    float64\n",
      " 10  ST_Slope        918 non-null    object \n",
      " 11  HeartDisease    918 non-null    object \n",
      "dtypes: float64(1), int32(1), int64(4), object(6)\n",
      "memory usage: 82.6+ KB\n"
     ]
    }
   ],
   "source": [
    "data.info()"
   ]
  },
  {
   "cell_type": "code",
   "execution_count": 11,
   "id": "17a2f84c",
   "metadata": {},
   "outputs": [
    {
     "data": {
      "text/plain": [
       "Age               0\n",
       "Sex               0\n",
       "ChestPainType     0\n",
       "RestingBP         0\n",
       "Cholesterol       0\n",
       "FastingBS         0\n",
       "RestingECG        0\n",
       "MaxHR             0\n",
       "ExerciseAngina    0\n",
       "Oldpeak           0\n",
       "ST_Slope          0\n",
       "HeartDisease      0\n",
       "dtype: int64"
      ]
     },
     "execution_count": 11,
     "metadata": {},
     "output_type": "execute_result"
    }
   ],
   "source": [
    "data.isnull().sum()"
   ]
  },
  {
   "cell_type": "markdown",
   "id": "44633258",
   "metadata": {},
   "source": [
    "# Pie Charts"
   ]
  },
  {
   "cell_type": "code",
   "execution_count": 12,
   "id": "15c78094",
   "metadata": {},
   "outputs": [
    {
     "data": {
      "image/png": "[encoded data removed]",
      "text/plain": [
       "<Figure size 1080x1080 with 6 Axes>"
      ]
     },
     "metadata": {},
     "output_type": "display_data"
    },
    {
     "data": {
      "text/plain": [
       "<Figure size 432x288 with 0 Axes>"
      ]
     },
     "metadata": {},
     "output_type": "display_data"
    }
   ],
   "source": [
    "figure,axis=plt.subplots(3,2,figsize=(15,15))\n",
    "((axis1,axis2),(axis3,axis4),(axis5,axis6))=axis\n",
    "\n",
    "label=data['Sex'].value_counts().index.tolist()\n",
    "values=data['Sex'].value_counts().tolist()\n",
    "axis1.pie(x=values, labels=label, autopct='%.1f%%', shadow=True, colors=['#008000','#800080'], explode=[0,0.3])\n",
    "axis1.set_title('Gender', fontweight='bold')\n",
    "\n",
    "label=data['ChestPainType'].value_counts().index.tolist()\n",
    "values=data['ChestPainType'].value_counts().tolist()\n",
    "axis2.pie(x=values, labels=label, autopct='%.1f%%', shadow=True, colors=['#800080','#008000','#FFFACD','#FF0000'], explode=[0.1,0.1,0.1,0.1])\n",
    "axis2.set_title('Chest Pain Types', fontweight='bold')\n",
    "\n",
    "label=data['FastingBS'].value_counts().index.tolist()\n",
    "values=data['FastingBS'].value_counts().tolist()\n",
    "axis3.pie(x=values, labels=label, autopct='%.1f%%', shadow=True, colors=['#FF7F50','#B22222'], explode=[0,0.2])\n",
    "axis3.set_title('Fasting Blood Sugar', fontweight='bold')\n",
    "\n",
    "label=data['RestingECG'].value_counts().index.tolist()\n",
    "values=data['RestingECG'].value_counts().tolist()\n",
    "axis4.pie(x=values, labels=label, autopct='%.1f%%', shadow=True, colors=['#B22222','#FF7F50','#FFFACD'], explode=[0,0.2,0.3])\n",
    "axis4.set_title('Resting Electrocardiogram results', fontweight='bold')\n",
    "\n",
    "label=data['ExerciseAngina'].value_counts().index.tolist()\n",
    "values=data['ExerciseAngina'].value_counts().tolist()\n",
    "axis5.pie(x=values, labels=label, autopct='%.1f%%', shadow=True, colors=['#008000','#FF0000'], explode=[0,0.1])\n",
    "axis5.set_title('Exercise Induced Angina', fontweight='bold')\n",
    "\n",
    "label=data['ST_Slope'].value_counts().index.tolist()\n",
    "values=data['ST_Slope'].value_counts().tolist()\n",
    "axis6.pie(x=values, labels=label, autopct='%.1f%%', shadow=True, colors=['#B22222','#FFFACD','#FF7F50'], explode=[0,0.2,0.1])\n",
    "axis6.set_title('The slope of peak exercise ST segment', fontweight='bold')\n",
    "\n",
    "\n",
    "\n",
    "plt.show()\n",
    "plt.tight_layout()\n"
   ]
  },
  {
   "cell_type": "markdown",
   "id": "29090770",
   "metadata": {},
   "source": [
    "# Countplots"
   ]
  },
  {
   "cell_type": "code",
   "execution_count": 13,
   "id": "28066dd8",
   "metadata": {},
   "outputs": [
    {
     "data": {
      "image/png": "[encoded data removed]",
      "text/plain": [
       "<Figure size 1440x1440 with 6 Axes>"
      ]
     },
     "metadata": {
      "needs_background": "light"
     },
     "output_type": "display_data"
    }
   ],
   "source": [
    "fig,axes = plt.subplots(3,2,figsize = (20,20))\n",
    "fig.suptitle(\"Count plot for categorical features\", fontsize=20)\n",
    "\n",
    "sns.countplot(ax=axes[0,0],data=data,x='Sex')\n",
    "\n",
    "sns.countplot(ax=axes[0,1],data=data,x='ChestPainType')\n",
    "\n",
    "sns.countplot(ax=axes[1,0],data=data,x='FastingBS')\n",
    "\n",
    "sns.countplot(ax=axes[1,1],data=data,x='RestingECG')\n",
    "\n",
    "sns.countplot(ax=axes[2,0],data=data,x='ExerciseAngina')\n",
    "\n",
    "sns.countplot(ax=axes[2,1],data=data,x='ST_Slope')\n",
    "\n",
    "plt.show()\n"
   ]
  },
  {
   "cell_type": "markdown",
   "id": "f253bf5d",
   "metadata": {},
   "source": [
    "# How many people suffered from heart disease?"
   ]
  },
  {
   "cell_type": "code",
   "execution_count": 14,
   "id": "b5808401",
   "metadata": {},
   "outputs": [
    {
     "data": {
      "text/plain": [
       "1    508\n",
       "0    410\n",
       "Name: HeartDisease, dtype: int64"
      ]
     },
     "execution_count": 14,
     "metadata": {},
     "output_type": "execute_result"
    }
   ],
   "source": [
    "data['HeartDisease'].value_counts()"
   ]
  },
  {
   "cell_type": "code",
   "execution_count": 15,
   "id": "618c7fd2",
   "metadata": {},
   "outputs": [
    {
     "name": "stderr",
     "output_type": "stream",
     "text": [
      "C:\\Users\\aryan\\anaconda3\\lib\\site-packages\\seaborn\\_decorators.py:36: FutureWarning: Pass the following variable as a keyword arg: x. From version 0.12, the only valid positional argument will be `data`, and passing other arguments without an explicit keyword will result in an error or misinterpretation.\n",
      "  warnings.warn(\n"
     ]
    },
    {
     "data": {
      "image/png": "[encoded data removed]",
      "text/plain": [
       "<Figure size 1152x720 with 2 Axes>"
      ]
     },
     "metadata": {
      "needs_background": "light"
     },
     "output_type": "display_data"
    }
   ],
   "source": [
    "fig,axis=plt.subplots(1,2,figsize=(16,10))\n",
    "data['HeartDisease'].value_counts().plot.pie(ax=axis[0], autopct='%.1f%%', shadow=True, explode=[0,0.3])\n",
    "axis[0].set_title('Suffered from Heart Disease')\n",
    "sns.countplot('HeartDisease', data=data, ax=axis[1])\n",
    "axis[1].set_title('Counts of people who suffered from Heart Disease')\n",
    "plt.show()\n"
   ]
  },
  {
   "cell_type": "markdown",
   "id": "c458e008",
   "metadata": {},
   "source": [
    "# Heart Disease Analysis"
   ]
  },
  {
   "cell_type": "code",
   "execution_count": 16,
   "id": "54746657",
   "metadata": {},
   "outputs": [
    {
     "data": {
      "text/html": [
       "<div>\n",
       "<style scoped>\n",
       "    .dataframe tbody tr th:only-of-type {\n",
       "        vertical-align: middle;\n",
       "    }\n",
       "\n",
       "    .dataframe tbody tr th {\n",
       "        vertical-align: top;\n",
       "    }\n",
       "\n",
       "    .dataframe thead th {\n",
       "        text-align: right;\n",
       "    }\n",
       "</style>\n",
       "<table border=\"1\" class=\"dataframe\">\n",
       "  <thead>\n",
       "    <tr style=\"text-align: right;\">\n",
       "      <th></th>\n",
       "      <th>Age</th>\n",
       "      <th>RestingBP</th>\n",
       "      <th>Cholesterol</th>\n",
       "      <th>FastingBS</th>\n",
       "      <th>MaxHR</th>\n",
       "      <th>Oldpeak</th>\n",
       "    </tr>\n",
       "  </thead>\n",
       "  <tbody>\n",
       "    <tr>\n",
       "      <th>count</th>\n",
       "      <td>508.000000</td>\n",
       "      <td>508.000000</td>\n",
       "      <td>508.000000</td>\n",
       "      <td>508.000000</td>\n",
       "      <td>508.000000</td>\n",
       "      <td>508.000000</td>\n",
       "    </tr>\n",
       "    <tr>\n",
       "      <th>mean</th>\n",
       "      <td>55.899606</td>\n",
       "      <td>134.185039</td>\n",
       "      <td>175.940945</td>\n",
       "      <td>0.334646</td>\n",
       "      <td>127.655512</td>\n",
       "      <td>1.274213</td>\n",
       "    </tr>\n",
       "    <tr>\n",
       "      <th>std</th>\n",
       "      <td>8.727056</td>\n",
       "      <td>19.828685</td>\n",
       "      <td>126.391398</td>\n",
       "      <td>0.472332</td>\n",
       "      <td>23.386923</td>\n",
       "      <td>1.151872</td>\n",
       "    </tr>\n",
       "    <tr>\n",
       "      <th>min</th>\n",
       "      <td>31.000000</td>\n",
       "      <td>0.000000</td>\n",
       "      <td>0.000000</td>\n",
       "      <td>0.000000</td>\n",
       "      <td>60.000000</td>\n",
       "      <td>-2.600000</td>\n",
       "    </tr>\n",
       "    <tr>\n",
       "      <th>25%</th>\n",
       "      <td>51.000000</td>\n",
       "      <td>120.000000</td>\n",
       "      <td>0.000000</td>\n",
       "      <td>0.000000</td>\n",
       "      <td>112.000000</td>\n",
       "      <td>0.000000</td>\n",
       "    </tr>\n",
       "    <tr>\n",
       "      <th>50%</th>\n",
       "      <td>57.000000</td>\n",
       "      <td>132.000000</td>\n",
       "      <td>217.000000</td>\n",
       "      <td>0.000000</td>\n",
       "      <td>126.000000</td>\n",
       "      <td>1.200000</td>\n",
       "    </tr>\n",
       "    <tr>\n",
       "      <th>75%</th>\n",
       "      <td>62.000000</td>\n",
       "      <td>145.000000</td>\n",
       "      <td>267.000000</td>\n",
       "      <td>1.000000</td>\n",
       "      <td>144.250000</td>\n",
       "      <td>2.000000</td>\n",
       "    </tr>\n",
       "    <tr>\n",
       "      <th>max</th>\n",
       "      <td>77.000000</td>\n",
       "      <td>200.000000</td>\n",
       "      <td>603.000000</td>\n",
       "      <td>1.000000</td>\n",
       "      <td>195.000000</td>\n",
       "      <td>6.200000</td>\n",
       "    </tr>\n",
       "  </tbody>\n",
       "</table>\n",
       "</div>"
      ],
      "text/plain": [
       "              Age   RestingBP  Cholesterol   FastingBS       MaxHR     Oldpeak\n",
       "count  508.000000  508.000000   508.000000  508.000000  508.000000  508.000000\n",
       "mean    55.899606  134.185039   175.940945    0.334646  127.655512    1.274213\n",
       "std      8.727056   19.828685   126.391398    0.472332   23.386923    1.151872\n",
       "min     31.000000    0.000000     0.000000    0.000000   60.000000   -2.600000\n",
       "25%     51.000000  120.000000     0.000000    0.000000  112.000000    0.000000\n",
       "50%     57.000000  132.000000   217.000000    0.000000  126.000000    1.200000\n",
       "75%     62.000000  145.000000   267.000000    1.000000  144.250000    2.000000\n",
       "max     77.000000  200.000000   603.000000    1.000000  195.000000    6.200000"
      ]
     },
     "execution_count": 16,
     "metadata": {},
     "output_type": "execute_result"
    }
   ],
   "source": [
    "data[data['HeartDisease']==1].describe()"
   ]
  },
  {
   "cell_type": "markdown",
   "id": "fd079cb7",
   "metadata": {},
   "source": [
    "# Correlation"
   ]
  },
  {
   "cell_type": "code",
   "execution_count": 17,
   "id": "579b034d",
   "metadata": {},
   "outputs": [
    {
     "data": {
      "text/html": [
       "<div>\n",
       "<style scoped>\n",
       "    .dataframe tbody tr th:only-of-type {\n",
       "        vertical-align: middle;\n",
       "    }\n",
       "\n",
       "    .dataframe tbody tr th {\n",
       "        vertical-align: top;\n",
       "    }\n",
       "\n",
       "    .dataframe thead th {\n",
       "        text-align: right;\n",
       "    }\n",
       "</style>\n",
       "<table border=\"1\" class=\"dataframe\">\n",
       "  <thead>\n",
       "    <tr style=\"text-align: right;\">\n",
       "      <th></th>\n",
       "      <th>Age</th>\n",
       "      <th>RestingBP</th>\n",
       "      <th>Cholesterol</th>\n",
       "      <th>FastingBS</th>\n",
       "      <th>MaxHR</th>\n",
       "      <th>Oldpeak</th>\n",
       "    </tr>\n",
       "  </thead>\n",
       "  <tbody>\n",
       "    <tr>\n",
       "      <th>Age</th>\n",
       "      <td>1.000000</td>\n",
       "      <td>0.254399</td>\n",
       "      <td>-0.095282</td>\n",
       "      <td>0.198039</td>\n",
       "      <td>-0.382045</td>\n",
       "      <td>0.258612</td>\n",
       "    </tr>\n",
       "    <tr>\n",
       "      <th>RestingBP</th>\n",
       "      <td>0.254399</td>\n",
       "      <td>1.000000</td>\n",
       "      <td>0.100893</td>\n",
       "      <td>0.070193</td>\n",
       "      <td>-0.112135</td>\n",
       "      <td>0.164803</td>\n",
       "    </tr>\n",
       "    <tr>\n",
       "      <th>Cholesterol</th>\n",
       "      <td>-0.095282</td>\n",
       "      <td>0.100893</td>\n",
       "      <td>1.000000</td>\n",
       "      <td>-0.260974</td>\n",
       "      <td>0.235792</td>\n",
       "      <td>0.050148</td>\n",
       "    </tr>\n",
       "    <tr>\n",
       "      <th>FastingBS</th>\n",
       "      <td>0.198039</td>\n",
       "      <td>0.070193</td>\n",
       "      <td>-0.260974</td>\n",
       "      <td>1.000000</td>\n",
       "      <td>-0.131438</td>\n",
       "      <td>0.052698</td>\n",
       "    </tr>\n",
       "    <tr>\n",
       "      <th>MaxHR</th>\n",
       "      <td>-0.382045</td>\n",
       "      <td>-0.112135</td>\n",
       "      <td>0.235792</td>\n",
       "      <td>-0.131438</td>\n",
       "      <td>1.000000</td>\n",
       "      <td>-0.160691</td>\n",
       "    </tr>\n",
       "    <tr>\n",
       "      <th>Oldpeak</th>\n",
       "      <td>0.258612</td>\n",
       "      <td>0.164803</td>\n",
       "      <td>0.050148</td>\n",
       "      <td>0.052698</td>\n",
       "      <td>-0.160691</td>\n",
       "      <td>1.000000</td>\n",
       "    </tr>\n",
       "  </tbody>\n",
       "</table>\n",
       "</div>"
      ],
      "text/plain": [
       "                  Age  RestingBP  Cholesterol  FastingBS     MaxHR   Oldpeak\n",
       "Age          1.000000   0.254399    -0.095282   0.198039 -0.382045  0.258612\n",
       "RestingBP    0.254399   1.000000     0.100893   0.070193 -0.112135  0.164803\n",
       "Cholesterol -0.095282   0.100893     1.000000  -0.260974  0.235792  0.050148\n",
       "FastingBS    0.198039   0.070193    -0.260974   1.000000 -0.131438  0.052698\n",
       "MaxHR       -0.382045  -0.112135     0.235792  -0.131438  1.000000 -0.160691\n",
       "Oldpeak      0.258612   0.164803     0.050148   0.052698 -0.160691  1.000000"
      ]
     },
     "execution_count": 17,
     "metadata": {},
     "output_type": "execute_result"
    }
   ],
   "source": [
    "data.corr()"
   ]
  },
  {
   "cell_type": "code",
   "execution_count": 18,
   "id": "c8e2e32e",
   "metadata": {},
   "outputs": [
    {
     "data": {
      "text/plain": [
       "<AxesSubplot:>"
      ]
     },
     "execution_count": 18,
     "metadata": {},
     "output_type": "execute_result"
    },
    {
     "data": {
      "image/png": "[encoded data removed]",
      "text/plain": [
       "<Figure size 864x720 with 2 Axes>"
      ]
     },
     "metadata": {
      "needs_background": "light"
     },
     "output_type": "display_data"
    }
   ],
   "source": [
    "f,ax=plt.subplots(1,1,figsize=(12,10))\n",
    "sns.heatmap(data.corr(), fmt='.1f', annot=True, linewidth=.5, ax=ax)"
   ]
  },
  {
   "cell_type": "markdown",
   "id": "a6119961",
   "metadata": {},
   "source": [
    "# Features related with Heart Disease"
   ]
  },
  {
   "cell_type": "markdown",
   "id": "79ae53e1",
   "metadata": {},
   "source": [
    "## Age vs Heart Disease"
   ]
  },
  {
   "cell_type": "code",
   "execution_count": 19,
   "id": "67a92353",
   "metadata": {},
   "outputs": [
    {
     "name": "stderr",
     "output_type": "stream",
     "text": [
      "C:\\Users\\aryan\\anaconda3\\lib\\site-packages\\seaborn\\distributions.py:2619: FutureWarning: `distplot` is a deprecated function and will be removed in a future version. Please adapt your code to use either `displot` (a figure-level function with similar flexibility) or `histplot` (an axes-level function for histograms).\n",
      "  warnings.warn(msg, FutureWarning)\n",
      "C:\\Users\\aryan\\anaconda3\\lib\\site-packages\\seaborn\\distributions.py:2619: FutureWarning: `distplot` is a deprecated function and will be removed in a future version. Please adapt your code to use either `displot` (a figure-level function with similar flexibility) or `histplot` (an axes-level function for histograms).\n",
      "  warnings.warn(msg, FutureWarning)\n"
     ]
    },
    {
     "data": {
      "image/png": "[encoded data removed]",
      "text/plain": [
       "<Figure size 651.25x576 with 1 Axes>"
      ]
     },
     "metadata": {
      "needs_background": "light"
     },
     "output_type": "display_data"
    }
   ],
   "source": [
    "sns.FacetGrid(data, hue='HeartDisease',height=8 ).map(sns.distplot, 'Age').add_legend()\n",
    "plt.show()"
   ]
  },
  {
   "cell_type": "markdown",
   "id": "e0e7c468",
   "metadata": {},
   "source": [
    "**Intuition**: People with age above 45 to 65 are more likely to suffer from heart disease, higher the age, higher the chance of getting a heart disease."
   ]
  },
  {
   "cell_type": "markdown",
   "id": "9a5f9830",
   "metadata": {},
   "source": [
    "## Sex vs Heart Disease"
   ]
  },
  {
   "cell_type": "code",
   "execution_count": 20,
   "id": "cc2e5e3c",
   "metadata": {},
   "outputs": [
    {
     "data": {
      "text/plain": [
       "Sex  HeartDisease  HeartDisease\n",
       "F    0             0               143\n",
       "     1             1                50\n",
       "M    0             0               267\n",
       "     1             1               458\n",
       "Name: HeartDisease, dtype: int64"
      ]
     },
     "execution_count": 20,
     "metadata": {},
     "output_type": "execute_result"
    }
   ],
   "source": [
    "data.groupby(['Sex','HeartDisease'])['HeartDisease'].value_counts()"
   ]
  },
  {
   "cell_type": "code",
   "execution_count": 21,
   "id": "a7e3259e",
   "metadata": {},
   "outputs": [
    {
     "name": "stderr",
     "output_type": "stream",
     "text": [
      "C:\\Users\\aryan\\anaconda3\\lib\\site-packages\\seaborn\\_decorators.py:36: FutureWarning: Pass the following variable as a keyword arg: x. From version 0.12, the only valid positional argument will be `data`, and passing other arguments without an explicit keyword will result in an error or misinterpretation.\n",
      "  warnings.warn(\n"
     ]
    },
    {
     "data": {
      "text/plain": [
       "Text(0.5, 1.0, 'Gender: Had a heart disease vs Had no heart disease')"
      ]
     },
     "execution_count": 21,
     "metadata": {},
     "output_type": "execute_result"
    },
    {
     "data": {
      "image/png": "[encoded data removed]",
      "text/plain": [
       "<Figure size 1008x720 with 2 Axes>"
      ]
     },
     "metadata": {
      "needs_background": "light"
     },
     "output_type": "display_data"
    }
   ],
   "source": [
    "fig,axis=plt.subplots(1,2,figsize=(14,10))\n",
    "data[['Sex','HeartDisease']].groupby(['Sex']).mean().plot.bar(ax=axis[0])\n",
    "axis[0].set_title('Suffered from heart disease vs Gender')\n",
    "sns.countplot('Sex', data=data, hue='HeartDisease', ax=axis[1])\n",
    "axis[1].set_title('Gender: Had a heart disease vs Had no heart disease')"
   ]
  },
  {
   "cell_type": "code",
   "execution_count": 22,
   "id": "ca906f3b",
   "metadata": {},
   "outputs": [
    {
     "data": {
      "text/plain": [
       "Sex\n",
       "F    0.259067\n",
       "M    0.631724\n",
       "Name: HeartDisease, dtype: float64"
      ]
     },
     "execution_count": 22,
     "metadata": {},
     "output_type": "execute_result"
    }
   ],
   "source": [
    "data.groupby('Sex').HeartDisease.mean()"
   ]
  },
  {
   "cell_type": "markdown",
   "id": "f3ea3261",
   "metadata": {},
   "source": [
    "**Intuition**: The no of male victims were far more than the no of female, about 63% and 25% male suffered from heart disease."
   ]
  },
  {
   "cell_type": "markdown",
   "id": "0580192f",
   "metadata": {},
   "source": [
    "## Chest Pain Type vs Heart Disease"
   ]
  },
  {
   "cell_type": "code",
   "execution_count": 23,
   "id": "fb7d2c65",
   "metadata": {},
   "outputs": [
    {
     "data": {
      "text/plain": [
       "ChestPainType  HeartDisease  HeartDisease\n",
       "ASY            0             0               104\n",
       "               1             1               392\n",
       "ATA            0             0               149\n",
       "               1             1                24\n",
       "NAP            0             0               131\n",
       "               1             1                72\n",
       "TA             0             0                26\n",
       "               1             1                20\n",
       "Name: HeartDisease, dtype: int64"
      ]
     },
     "execution_count": 23,
     "metadata": {},
     "output_type": "execute_result"
    }
   ],
   "source": [
    "data.groupby(['ChestPainType','HeartDisease'])['HeartDisease'].value_counts()"
   ]
  },
  {
   "cell_type": "code",
   "execution_count": 24,
   "id": "96a95452",
   "metadata": {},
   "outputs": [
    {
     "name": "stderr",
     "output_type": "stream",
     "text": [
      "C:\\Users\\aryan\\anaconda3\\lib\\site-packages\\seaborn\\_decorators.py:36: FutureWarning: Pass the following variable as a keyword arg: x. From version 0.12, the only valid positional argument will be `data`, and passing other arguments without an explicit keyword will result in an error or misinterpretation.\n",
      "  warnings.warn(\n"
     ]
    },
    {
     "data": {
      "text/plain": [
       "Text(0.5, 1.0, 'Chest Pain Type: Had a heart disease vs Had no heart disease')"
      ]
     },
     "execution_count": 24,
     "metadata": {},
     "output_type": "execute_result"
    },
    {
     "data": {
      "image/png": "[encoded data removed]",
      "text/plain": [
       "<Figure size 1008x720 with 2 Axes>"
      ]
     },
     "metadata": {
      "needs_background": "light"
     },
     "output_type": "display_data"
    }
   ],
   "source": [
    "fig,axis=plt.subplots(1,2,figsize=(14,10))\n",
    "data[['ChestPainType','HeartDisease']].groupby(['ChestPainType']).mean().plot.bar(ax=axis[0])\n",
    "axis[0].set_title('Suffered from heart disease vs Chest Pain Type')\n",
    "sns.countplot('ChestPainType', data=data, hue='HeartDisease', ax=axis[1])\n",
    "axis[1].set_title('Chest Pain Type: Had a heart disease vs Had no heart disease')"
   ]
  },
  {
   "cell_type": "code",
   "execution_count": 25,
   "id": "83453c30",
   "metadata": {},
   "outputs": [
    {
     "data": {
      "text/plain": [
       "ChestPainType\n",
       "ASY    0.790323\n",
       "ATA    0.138728\n",
       "NAP    0.354680\n",
       "TA     0.434783\n",
       "Name: HeartDisease, dtype: float64"
      ]
     },
     "execution_count": 25,
     "metadata": {},
     "output_type": "execute_result"
    }
   ],
   "source": [
    "data.groupby('ChestPainType').HeartDisease.mean()"
   ]
  },
  {
   "cell_type": "markdown",
   "id": "c9bbac09",
   "metadata": {},
   "source": [
    "**Intiution**: According to this dataset, the almost 80% of the patients have ASY(Asymptomatic) chest pain, 43.4% of the patients have TA(Typical Angina) chest pain, 35.4% of the patients have NAP(Non- Anginal Pain) chest pain, and 13.8% of the patients have ATA(Atypical Angina) had heart disease. Morever, the patients having ASY had the most chance of suffering from a heart attack."
   ]
  },
  {
   "cell_type": "markdown",
   "id": "a130a323",
   "metadata": {},
   "source": [
    "## Fasting Blood Sugar vs Heart Disease"
   ]
  },
  {
   "cell_type": "code",
   "execution_count": 26,
   "id": "46789210",
   "metadata": {},
   "outputs": [
    {
     "data": {
      "text/plain": [
       "FastingBS  HeartDisease  HeartDisease\n",
       "0          0             0               366\n",
       "           1             1               338\n",
       "1          0             0                44\n",
       "           1             1               170\n",
       "Name: HeartDisease, dtype: int64"
      ]
     },
     "execution_count": 26,
     "metadata": {},
     "output_type": "execute_result"
    }
   ],
   "source": [
    "data.groupby(['FastingBS','HeartDisease'])['HeartDisease'].value_counts()"
   ]
  },
  {
   "cell_type": "code",
   "execution_count": 27,
   "id": "1c9e7c18",
   "metadata": {},
   "outputs": [
    {
     "name": "stderr",
     "output_type": "stream",
     "text": [
      "C:\\Users\\aryan\\anaconda3\\lib\\site-packages\\seaborn\\_decorators.py:36: FutureWarning: Pass the following variable as a keyword arg: x. From version 0.12, the only valid positional argument will be `data`, and passing other arguments without an explicit keyword will result in an error or misinterpretation.\n",
      "  warnings.warn(\n"
     ]
    },
    {
     "data": {
      "image/png": "[encoded data removed]",
      "text/plain": [
       "<Figure size 1008x720 with 2 Axes>"
      ]
     },
     "metadata": {
      "needs_background": "light"
     },
     "output_type": "display_data"
    }
   ],
   "source": [
    "fig,axis=plt.subplots(1,2,figsize=(14,10))\n",
    "data[['FastingBS','HeartDisease']].groupby(['FastingBS']).mean().plot.bar(ax=axis[0])\n",
    "axis[0].set_title('Suffered from heart disease vs Fasting Blood Sugar')\n",
    "sns.countplot('FastingBS', data=data, hue='HeartDisease', ax=axis[1])\n",
    "axis[1].set_title('Fasting Blood Sugar: Had a heart disease vs Had no heart disease')\n",
    "plt.show()"
   ]
  },
  {
   "cell_type": "code",
   "execution_count": 28,
   "id": "de90dc12",
   "metadata": {},
   "outputs": [
    {
     "data": {
      "text/plain": [
       "FastingBS\n",
       "0    0.480114\n",
       "1    0.794393\n",
       "Name: HeartDisease, dtype: float64"
      ]
     },
     "execution_count": 28,
     "metadata": {},
     "output_type": "execute_result"
    }
   ],
   "source": [
    "data.groupby('FastingBS').HeartDisease.mean()"
   ]
  },
  {
   "cell_type": "markdown",
   "id": "2ec17beb",
   "metadata": {},
   "source": [
    "**Intiution**: According to this dataset, the almost 80% of the patients have blood sugar more than 120 mg/dl, along with 48% of the patients have blood sugar less than 120 mg/dl. Moreover, the patients with blood sugar more than 120 mg/dl is most likely to have a heart attack."
   ]
  },
  {
   "cell_type": "markdown",
   "id": "63e038af",
   "metadata": {},
   "source": [
    "## Resting Blood Pressure vs Heart Disease"
   ]
  },
  {
   "cell_type": "code",
   "execution_count": 29,
   "id": "e9bddee5",
   "metadata": {},
   "outputs": [
    {
     "data": {
      "image/png": "[encoded data removed]",
      "text/plain": [
       "<Figure size 720x360 with 1 Axes>"
      ]
     },
     "metadata": {
      "needs_background": "light"
     },
     "output_type": "display_data"
    }
   ],
   "source": [
    "plt.figure(figsize=(10,5))\n",
    "sns.kdeplot(data['RestingBP'], hue_order='HeartDisease', shade=True)\n",
    "plt.xlabel('Resting blood pressure')\n",
    "plt.ylabel('Density')\n",
    "plt.title('Resting blood pressure of the patients ')\n",
    "plt.show()"
   ]
  },
  {
   "cell_type": "markdown",
   "id": "c08a7fb6",
   "metadata": {},
   "source": [
    "**Intuition**: Patients having Resting Blood pressure between 100 to 150 have the most likely chance to suffer from Heart Disease."
   ]
  },
  {
   "cell_type": "markdown",
   "id": "12874c5d",
   "metadata": {},
   "source": [
    "## Resting Electrocardiogram results vs Heart Disease"
   ]
  },
  {
   "cell_type": "code",
   "execution_count": 30,
   "id": "502bd1ac",
   "metadata": {},
   "outputs": [
    {
     "data": {
      "text/plain": [
       "RestingECG  HeartDisease  HeartDisease\n",
       "LVH         0             0                82\n",
       "            1             1               106\n",
       "Normal      0             0               267\n",
       "            1             1               285\n",
       "ST          0             0                61\n",
       "            1             1               117\n",
       "Name: HeartDisease, dtype: int64"
      ]
     },
     "execution_count": 30,
     "metadata": {},
     "output_type": "execute_result"
    }
   ],
   "source": [
    "data.groupby(['RestingECG','HeartDisease'])['HeartDisease'].value_counts()"
   ]
  },
  {
   "cell_type": "code",
   "execution_count": 31,
   "id": "f93d9479",
   "metadata": {},
   "outputs": [
    {
     "name": "stderr",
     "output_type": "stream",
     "text": [
      "C:\\Users\\aryan\\anaconda3\\lib\\site-packages\\seaborn\\_decorators.py:36: FutureWarning: Pass the following variable as a keyword arg: x. From version 0.12, the only valid positional argument will be `data`, and passing other arguments without an explicit keyword will result in an error or misinterpretation.\n",
      "  warnings.warn(\n"
     ]
    },
    {
     "data": {
      "image/png": "[encoded data removed]",
      "text/plain": [
       "<Figure size 1224x720 with 2 Axes>"
      ]
     },
     "metadata": {
      "needs_background": "light"
     },
     "output_type": "display_data"
    }
   ],
   "source": [
    "fig,axis=plt.subplots(1,2,figsize=(17,10))\n",
    "data[['RestingECG','HeartDisease']].groupby(['RestingECG']).mean().plot.bar(ax=axis[0])\n",
    "axis[0].set_title('Suffered from heart disease vs Resting Electrocardiogram results')\n",
    "sns.countplot('RestingECG', data=data, hue='HeartDisease', ax=axis[1])\n",
    "axis[1].set_title('Resting Electrocardiogram results: Had a heart disease vs Had no heart disease')\n",
    "plt.show()"
   ]
  },
  {
   "cell_type": "code",
   "execution_count": 32,
   "id": "d2e728ee",
   "metadata": {},
   "outputs": [
    {
     "data": {
      "text/plain": [
       "RestingECG\n",
       "LVH       0.563830\n",
       "Normal    0.516304\n",
       "ST        0.657303\n",
       "Name: HeartDisease, dtype: float64"
      ]
     },
     "execution_count": 32,
     "metadata": {},
     "output_type": "execute_result"
    }
   ],
   "source": [
    "data.groupby('RestingECG').HeartDisease.mean()"
   ]
  },
  {
   "cell_type": "markdown",
   "id": "a773e36d",
   "metadata": {},
   "source": [
    "**Intuition**: According to this dataset, the almost 65.7% of the patients with ST(ST-T wave abnormality) resting ECG,along with 56.3% of the patients with LVH(Ledt ventricular Hypertrophy) resting ECG, 51.6% of the patients with Normal resting ECG had heart disease.\n",
    "All the restingECG has 50% and above chances that the patient had a heart disease. \n",
    "\n",
    "**ST-T Wave Abnormality: (T wave inversions and/or ST elevation or depression of > 0.05 mV)**\n",
    "\n",
    "**LVH: showing probable or definite left ventricular hypertrophy**\n"
   ]
  },
  {
   "cell_type": "markdown",
   "id": "694ea93d",
   "metadata": {},
   "source": [
    "## Maximum Heart Rate vs Heart Disease"
   ]
  },
  {
   "cell_type": "code",
   "execution_count": 33,
   "id": "34209900",
   "metadata": {},
   "outputs": [
    {
     "data": {
      "image/png": "[encoded data removed]",
      "text/plain": [
       "<Figure size 720x360 with 1 Axes>"
      ]
     },
     "metadata": {
      "needs_background": "light"
     },
     "output_type": "display_data"
    }
   ],
   "source": [
    "plt.figure(figsize=(10,5))\n",
    "sns.kdeplot(data['MaxHR'], hue_order='HeartDisease', shade=True)\n",
    "plt.xlabel('Maximum Heart Rate')\n",
    "plt.ylabel('Density')\n",
    "plt.title('Maximum heart rate of the patients ')\n",
    "plt.show()"
   ]
  },
  {
   "cell_type": "markdown",
   "id": "d6409969",
   "metadata": {},
   "source": [
    "**Intuition**: Patients with maximum heart rate between 100 to 175 have suffered more from heart disease."
   ]
  },
  {
   "cell_type": "markdown",
   "id": "05b6109c",
   "metadata": {},
   "source": [
    "## Exercise Induced Angina vs Heart Disease"
   ]
  },
  {
   "cell_type": "code",
   "execution_count": 34,
   "id": "dc034177",
   "metadata": {},
   "outputs": [
    {
     "data": {
      "text/plain": [
       "ExerciseAngina  HeartDisease  HeartDisease\n",
       "N               0             0               355\n",
       "                1             1               192\n",
       "Y               0             0                55\n",
       "                1             1               316\n",
       "Name: HeartDisease, dtype: int64"
      ]
     },
     "execution_count": 34,
     "metadata": {},
     "output_type": "execute_result"
    }
   ],
   "source": [
    "data.groupby(['ExerciseAngina','HeartDisease'])['HeartDisease'].value_counts()"
   ]
  },
  {
   "cell_type": "code",
   "execution_count": 35,
   "id": "9daf1edd",
   "metadata": {},
   "outputs": [
    {
     "name": "stderr",
     "output_type": "stream",
     "text": [
      "C:\\Users\\aryan\\anaconda3\\lib\\site-packages\\seaborn\\_decorators.py:36: FutureWarning: Pass the following variable as a keyword arg: x. From version 0.12, the only valid positional argument will be `data`, and passing other arguments without an explicit keyword will result in an error or misinterpretation.\n",
      "  warnings.warn(\n"
     ]
    },
    {
     "data": {
      "image/png": "[encoded data removed]",
      "text/plain": [
       "<Figure size 1008x720 with 2 Axes>"
      ]
     },
     "metadata": {
      "needs_background": "light"
     },
     "output_type": "display_data"
    }
   ],
   "source": [
    "fig,axis=plt.subplots(1,2,figsize=(14,10))\n",
    "data[['ExerciseAngina','HeartDisease']].groupby(['ExerciseAngina']).mean().plot.bar(ax=axis[0])\n",
    "axis[0].set_title('Suffered from heart disease vs Exercise Induced Angina')\n",
    "sns.countplot('ExerciseAngina', data=data, hue='HeartDisease', ax=axis[1])\n",
    "axis[1].set_title('Exercise Induced Angina: Had a heart disease vs Had no heart disease')\n",
    "plt.show()"
   ]
  },
  {
   "cell_type": "code",
   "execution_count": 36,
   "id": "9d1c8893",
   "metadata": {},
   "outputs": [
    {
     "data": {
      "text/plain": [
       "ExerciseAngina\n",
       "N    0.351005\n",
       "Y    0.851752\n",
       "Name: HeartDisease, dtype: float64"
      ]
     },
     "execution_count": 36,
     "metadata": {},
     "output_type": "execute_result"
    }
   ],
   "source": [
    "data.groupby('ExerciseAngina').HeartDisease.mean()"
   ]
  },
  {
   "cell_type": "markdown",
   "id": "202eedc3",
   "metadata": {},
   "source": [
    "**Intuition**: Patients who had exercise induced angina suffered more from heart disease than people with no exercise induced angina. According to this dataset, 85.1% of the patients with exercise induced angina, along with 35.1% of the patients without exercise induced angina suffered from heart disease"
   ]
  },
  {
   "cell_type": "markdown",
   "id": "c133c789",
   "metadata": {},
   "source": [
    "## Oldpeak vs Heart Disease"
   ]
  },
  {
   "cell_type": "code",
   "execution_count": 37,
   "id": "0ed51c44",
   "metadata": {},
   "outputs": [
    {
     "data": {
      "image/png": "[encoded data removed]",
      "text/plain": [
       "<Figure size 720x360 with 1 Axes>"
      ]
     },
     "metadata": {
      "needs_background": "light"
     },
     "output_type": "display_data"
    }
   ],
   "source": [
    "plt.figure(figsize=(10,5))\n",
    "sns.kdeplot(data['Oldpeak'], hue_order='HeartDisease', shade=True)\n",
    "plt.xlabel('Oldpeak in ST')\n",
    "plt.ylabel('Density')\n",
    "plt.title('Oldpeak in ST of the patients ')\n",
    "plt.show()"
   ]
  },
  {
   "cell_type": "markdown",
   "id": "4bbbdad3",
   "metadata": {},
   "source": [
    "**Intuition**: Patients between 0 to 2 having oldpeak(ST numeric value measured in depression) are the most likely to suffer from heart disease.\n",
    "\n",
    "ST depression refers to a finding on an electrocardiogram,wherein the trace in the ST segment is abnormally low below the baseline."
   ]
  },
  {
   "cell_type": "markdown",
   "id": "139f476e",
   "metadata": {},
   "source": [
    "## ST Slope vs Heart Disease"
   ]
  },
  {
   "cell_type": "code",
   "execution_count": 38,
   "id": "2bc66a25",
   "metadata": {},
   "outputs": [
    {
     "data": {
      "text/plain": [
       "ST_Slope  HeartDisease  HeartDisease\n",
       "Down      0             0                14\n",
       "          1             1                49\n",
       "Flat      0             0                79\n",
       "          1             1               381\n",
       "Up        0             0               317\n",
       "          1             1                78\n",
       "Name: HeartDisease, dtype: int64"
      ]
     },
     "execution_count": 38,
     "metadata": {},
     "output_type": "execute_result"
    }
   ],
   "source": [
    "data.groupby(['ST_Slope','HeartDisease'])['HeartDisease'].value_counts()"
   ]
  },
  {
   "cell_type": "code",
   "execution_count": 39,
   "id": "84d29b01",
   "metadata": {},
   "outputs": [
    {
     "name": "stderr",
     "output_type": "stream",
     "text": [
      "C:\\Users\\aryan\\anaconda3\\lib\\site-packages\\seaborn\\_decorators.py:36: FutureWarning: Pass the following variable as a keyword arg: x. From version 0.12, the only valid positional argument will be `data`, and passing other arguments without an explicit keyword will result in an error or misinterpretation.\n",
      "  warnings.warn(\n"
     ]
    },
    {
     "data": {
      "image/png": "[encoded data removed]",
      "text/plain": [
       "<Figure size 1008x720 with 2 Axes>"
      ]
     },
     "metadata": {
      "needs_background": "light"
     },
     "output_type": "display_data"
    }
   ],
   "source": [
    "fig,axis=plt.subplots(1,2,figsize=(14,10))\n",
    "data[['ST_Slope','HeartDisease']].groupby(['ST_Slope']).mean().plot.bar(ax=axis[0])\n",
    "axis[0].set_title('Suffered from heart disease vs ST slope')\n",
    "sns.countplot('ST_Slope', data=data, hue='HeartDisease', ax=axis[1])\n",
    "axis[1].set_title('ST slope: Had a heart disease vs Had no heart disease')\n",
    "plt.show()"
   ]
  },
  {
   "cell_type": "code",
   "execution_count": 40,
   "id": "71c3122c",
   "metadata": {},
   "outputs": [
    {
     "data": {
      "text/plain": [
       "ST_Slope\n",
       "Down    0.777778\n",
       "Flat    0.828261\n",
       "Up      0.197468\n",
       "Name: HeartDisease, dtype: float64"
      ]
     },
     "execution_count": 40,
     "metadata": {},
     "output_type": "execute_result"
    }
   ],
   "source": [
    "data.groupby('ST_Slope').HeartDisease.mean()"
   ]
  },
  {
   "cell_type": "markdown",
   "id": "2e074d5b",
   "metadata": {},
   "source": [
    "**Intuition**: Patients who had flat and down(downsloping) ST slope suffered more from heart disease than people with Up(upsloping) ST Slope. According to this dataset, 82.8% of the patients with Flat , along with 77.7% of the patients with Down, and 19.7% of the patients with Up ST Slope suffered from heart disease.\n",
    "\n",
    "ST_Slope: the slope of the peak exercise ST segment\n",
    "\n"
   ]
  },
  {
   "cell_type": "code",
   "execution_count": 41,
   "id": "1610eedc",
   "metadata": {},
   "outputs": [],
   "source": [
    "## Data Preprocessing"
   ]
  },
  {
   "cell_type": "code",
   "execution_count": 42,
   "id": "d2ba37d4",
   "metadata": {},
   "outputs": [],
   "source": [
    "#num_features= ['Age', 'RestingBP', 'Cholesterol', 'MaxHR', 'Oldpeak']\n",
    "#nominal_feature= ['Sex']\n",
    "#ordinal_features= ['Sex','FastingBS', 'ChestPainType', 'RestingECG', 'ExerciseAngina', 'ST_Slope']\n",
    "\n",
    "\n",
    "#from sklearn.preprocessing import StandardScaler\n",
    "#from sklearn.preprocessing import OneHotEncoder, OrdinalEncoder\n",
    "#from sklearn.pipeline import Pipeline\n",
    "\n",
    "#num_pipeline= Pipeline([('numerical features', StandardScaler())])\n",
    "#nominal_pipeline= Pipeline([('nominal features', OneHotEncoder())])\n",
    "#ordinal_pipeline= Pipeline([('ordinal features', OrdinalEncoder())])\n",
    "\n",
    "#from sklearn.compose import ColumnTransformer\n",
    "\n",
    "#pipeline= ColumnTransformer([('numerical features', num_features, num_pipeline),\n",
    "                             #('nominal features', nominal_feature, nominal_pipeline),\n",
    "                             #('ordinal features', ordinal_features, ordinal_pipeline)])\n",
    "\n",
    "#output_cols=['Age', 'RestingBP', 'Cholesterol', 'MaxHR', 'Oldpeak', 'Female', 'Male', 'FastingBS', 'ChestPainType', 'RestingECG', 'ExerciseAngina', 'ST_Slope']\n",
    "\n",
    "\n",
    "#X_train_tr= pipeline.fit_transform(X_train)\n",
    "#X_train_tr= pd.DataFrame(X_train_tr, columns= output_cols)\n",
    "#X_train_tr\n"
   ]
  },
  {
   "cell_type": "markdown",
   "id": "40c91e3f",
   "metadata": {},
   "source": [
    "## Data Preprocessing\n",
    "\n",
    "Data Normalization is required for numerical features as it contains multiple columns with different magnitudes which results in biasing in the model. Hence, we will use Z-score method to normalize the numerical data. In this case, the mean of the data is 0 and standard deviation is 1. Z-score measures, the distance between a data point and the mean using standard deviations.\n",
    "\n",
    "To achieve normalization, we subtract the data by mean and divide it by standard deviation."
   ]
  },
  {
   "cell_type": "markdown",
   "id": "5195a4b1",
   "metadata": {},
   "source": [
    "### Normalization: Age"
   ]
  },
  {
   "cell_type": "code",
   "execution_count": 43,
   "id": "0929301c",
   "metadata": {},
   "outputs": [
    {
     "data": {
      "text/html": [
       "<div>\n",
       "<style scoped>\n",
       "    .dataframe tbody tr th:only-of-type {\n",
       "        vertical-align: middle;\n",
       "    }\n",
       "\n",
       "    .dataframe tbody tr th {\n",
       "        vertical-align: top;\n",
       "    }\n",
       "\n",
       "    .dataframe thead th {\n",
       "        text-align: right;\n",
       "    }\n",
       "</style>\n",
       "<table border=\"1\" class=\"dataframe\">\n",
       "  <thead>\n",
       "    <tr style=\"text-align: right;\">\n",
       "      <th></th>\n",
       "      <th>Age</th>\n",
       "      <th>Sex</th>\n",
       "      <th>ChestPainType</th>\n",
       "      <th>RestingBP</th>\n",
       "      <th>Cholesterol</th>\n",
       "      <th>FastingBS</th>\n",
       "      <th>RestingECG</th>\n",
       "      <th>MaxHR</th>\n",
       "      <th>ExerciseAngina</th>\n",
       "      <th>Oldpeak</th>\n",
       "      <th>ST_Slope</th>\n",
       "      <th>HeartDisease</th>\n",
       "    </tr>\n",
       "  </thead>\n",
       "  <tbody>\n",
       "    <tr>\n",
       "      <th>0</th>\n",
       "      <td>-1.432359</td>\n",
       "      <td>M</td>\n",
       "      <td>ATA</td>\n",
       "      <td>140</td>\n",
       "      <td>289</td>\n",
       "      <td>0</td>\n",
       "      <td>Normal</td>\n",
       "      <td>172</td>\n",
       "      <td>N</td>\n",
       "      <td>0.0</td>\n",
       "      <td>Up</td>\n",
       "      <td>0</td>\n",
       "    </tr>\n",
       "    <tr>\n",
       "      <th>1</th>\n",
       "      <td>-0.478223</td>\n",
       "      <td>F</td>\n",
       "      <td>NAP</td>\n",
       "      <td>160</td>\n",
       "      <td>180</td>\n",
       "      <td>0</td>\n",
       "      <td>Normal</td>\n",
       "      <td>156</td>\n",
       "      <td>N</td>\n",
       "      <td>1.0</td>\n",
       "      <td>Flat</td>\n",
       "      <td>1</td>\n",
       "    </tr>\n",
       "    <tr>\n",
       "      <th>2</th>\n",
       "      <td>-1.750404</td>\n",
       "      <td>M</td>\n",
       "      <td>ATA</td>\n",
       "      <td>130</td>\n",
       "      <td>283</td>\n",
       "      <td>0</td>\n",
       "      <td>ST</td>\n",
       "      <td>98</td>\n",
       "      <td>N</td>\n",
       "      <td>0.0</td>\n",
       "      <td>Up</td>\n",
       "      <td>0</td>\n",
       "    </tr>\n",
       "    <tr>\n",
       "      <th>3</th>\n",
       "      <td>-0.584238</td>\n",
       "      <td>F</td>\n",
       "      <td>ASY</td>\n",
       "      <td>138</td>\n",
       "      <td>214</td>\n",
       "      <td>0</td>\n",
       "      <td>Normal</td>\n",
       "      <td>108</td>\n",
       "      <td>Y</td>\n",
       "      <td>1.5</td>\n",
       "      <td>Flat</td>\n",
       "      <td>1</td>\n",
       "    </tr>\n",
       "    <tr>\n",
       "      <th>4</th>\n",
       "      <td>0.051853</td>\n",
       "      <td>M</td>\n",
       "      <td>NAP</td>\n",
       "      <td>150</td>\n",
       "      <td>195</td>\n",
       "      <td>0</td>\n",
       "      <td>Normal</td>\n",
       "      <td>122</td>\n",
       "      <td>N</td>\n",
       "      <td>0.0</td>\n",
       "      <td>Up</td>\n",
       "      <td>0</td>\n",
       "    </tr>\n",
       "  </tbody>\n",
       "</table>\n",
       "</div>"
      ],
      "text/plain": [
       "        Age Sex ChestPainType  RestingBP  Cholesterol  FastingBS RestingECG  \\\n",
       "0 -1.432359   M           ATA        140          289          0     Normal   \n",
       "1 -0.478223   F           NAP        160          180          0     Normal   \n",
       "2 -1.750404   M           ATA        130          283          0         ST   \n",
       "3 -0.584238   F           ASY        138          214          0     Normal   \n",
       "4  0.051853   M           NAP        150          195          0     Normal   \n",
       "\n",
       "   MaxHR ExerciseAngina  Oldpeak ST_Slope HeartDisease  \n",
       "0    172              N      0.0       Up            0  \n",
       "1    156              N      1.0     Flat            1  \n",
       "2     98              N      0.0       Up            0  \n",
       "3    108              Y      1.5     Flat            1  \n",
       "4    122              N      0.0       Up            0  "
      ]
     },
     "execution_count": 43,
     "metadata": {},
     "output_type": "execute_result"
    }
   ],
   "source": [
    "mean= data['Age'].mean()\n",
    "std= data['Age'].std()\n",
    "\n",
    "data['Age']= (data['Age']-mean)/std\n",
    "data.head()"
   ]
  },
  {
   "cell_type": "markdown",
   "id": "474a37fe",
   "metadata": {},
   "source": [
    "### Normalization: RestingBP"
   ]
  },
  {
   "cell_type": "code",
   "execution_count": 44,
   "id": "33a07646",
   "metadata": {},
   "outputs": [
    {
     "data": {
      "text/html": [
       "<div>\n",
       "<style scoped>\n",
       "    .dataframe tbody tr th:only-of-type {\n",
       "        vertical-align: middle;\n",
       "    }\n",
       "\n",
       "    .dataframe tbody tr th {\n",
       "        vertical-align: top;\n",
       "    }\n",
       "\n",
       "    .dataframe thead th {\n",
       "        text-align: right;\n",
       "    }\n",
       "</style>\n",
       "<table border=\"1\" class=\"dataframe\">\n",
       "  <thead>\n",
       "    <tr style=\"text-align: right;\">\n",
       "      <th></th>\n",
       "      <th>Age</th>\n",
       "      <th>Sex</th>\n",
       "      <th>ChestPainType</th>\n",
       "      <th>RestingBP</th>\n",
       "      <th>Cholesterol</th>\n",
       "      <th>FastingBS</th>\n",
       "      <th>RestingECG</th>\n",
       "      <th>MaxHR</th>\n",
       "      <th>ExerciseAngina</th>\n",
       "      <th>Oldpeak</th>\n",
       "      <th>ST_Slope</th>\n",
       "      <th>HeartDisease</th>\n",
       "    </tr>\n",
       "  </thead>\n",
       "  <tbody>\n",
       "    <tr>\n",
       "      <th>0</th>\n",
       "      <td>-1.432359</td>\n",
       "      <td>M</td>\n",
       "      <td>ATA</td>\n",
       "      <td>0.410685</td>\n",
       "      <td>289</td>\n",
       "      <td>0</td>\n",
       "      <td>Normal</td>\n",
       "      <td>172</td>\n",
       "      <td>N</td>\n",
       "      <td>0.0</td>\n",
       "      <td>Up</td>\n",
       "      <td>0</td>\n",
       "    </tr>\n",
       "    <tr>\n",
       "      <th>1</th>\n",
       "      <td>-0.478223</td>\n",
       "      <td>F</td>\n",
       "      <td>NAP</td>\n",
       "      <td>1.490940</td>\n",
       "      <td>180</td>\n",
       "      <td>0</td>\n",
       "      <td>Normal</td>\n",
       "      <td>156</td>\n",
       "      <td>N</td>\n",
       "      <td>1.0</td>\n",
       "      <td>Flat</td>\n",
       "      <td>1</td>\n",
       "    </tr>\n",
       "    <tr>\n",
       "      <th>2</th>\n",
       "      <td>-1.750404</td>\n",
       "      <td>M</td>\n",
       "      <td>ATA</td>\n",
       "      <td>-0.129442</td>\n",
       "      <td>283</td>\n",
       "      <td>0</td>\n",
       "      <td>ST</td>\n",
       "      <td>98</td>\n",
       "      <td>N</td>\n",
       "      <td>0.0</td>\n",
       "      <td>Up</td>\n",
       "      <td>0</td>\n",
       "    </tr>\n",
       "    <tr>\n",
       "      <th>3</th>\n",
       "      <td>-0.584238</td>\n",
       "      <td>F</td>\n",
       "      <td>ASY</td>\n",
       "      <td>0.302660</td>\n",
       "      <td>214</td>\n",
       "      <td>0</td>\n",
       "      <td>Normal</td>\n",
       "      <td>108</td>\n",
       "      <td>Y</td>\n",
       "      <td>1.5</td>\n",
       "      <td>Flat</td>\n",
       "      <td>1</td>\n",
       "    </tr>\n",
       "    <tr>\n",
       "      <th>4</th>\n",
       "      <td>0.051853</td>\n",
       "      <td>M</td>\n",
       "      <td>NAP</td>\n",
       "      <td>0.950812</td>\n",
       "      <td>195</td>\n",
       "      <td>0</td>\n",
       "      <td>Normal</td>\n",
       "      <td>122</td>\n",
       "      <td>N</td>\n",
       "      <td>0.0</td>\n",
       "      <td>Up</td>\n",
       "      <td>0</td>\n",
       "    </tr>\n",
       "  </tbody>\n",
       "</table>\n",
       "</div>"
      ],
      "text/plain": [
       "        Age Sex ChestPainType  RestingBP  Cholesterol  FastingBS RestingECG  \\\n",
       "0 -1.432359   M           ATA   0.410685          289          0     Normal   \n",
       "1 -0.478223   F           NAP   1.490940          180          0     Normal   \n",
       "2 -1.750404   M           ATA  -0.129442          283          0         ST   \n",
       "3 -0.584238   F           ASY   0.302660          214          0     Normal   \n",
       "4  0.051853   M           NAP   0.950812          195          0     Normal   \n",
       "\n",
       "   MaxHR ExerciseAngina  Oldpeak ST_Slope HeartDisease  \n",
       "0    172              N      0.0       Up            0  \n",
       "1    156              N      1.0     Flat            1  \n",
       "2     98              N      0.0       Up            0  \n",
       "3    108              Y      1.5     Flat            1  \n",
       "4    122              N      0.0       Up            0  "
      ]
     },
     "execution_count": 44,
     "metadata": {},
     "output_type": "execute_result"
    }
   ],
   "source": [
    "mean= data['RestingBP'].mean()\n",
    "std= data['RestingBP'].std()\n",
    "\n",
    "data['RestingBP']=(data['RestingBP']-mean)/std\n",
    "data.head()"
   ]
  },
  {
   "cell_type": "markdown",
   "id": "db84086d",
   "metadata": {},
   "source": [
    "### Normalization: Cholesterol"
   ]
  },
  {
   "cell_type": "code",
   "execution_count": 45,
   "id": "e63a4d6b",
   "metadata": {},
   "outputs": [
    {
     "data": {
      "text/html": [
       "<div>\n",
       "<style scoped>\n",
       "    .dataframe tbody tr th:only-of-type {\n",
       "        vertical-align: middle;\n",
       "    }\n",
       "\n",
       "    .dataframe tbody tr th {\n",
       "        vertical-align: top;\n",
       "    }\n",
       "\n",
       "    .dataframe thead th {\n",
       "        text-align: right;\n",
       "    }\n",
       "</style>\n",
       "<table border=\"1\" class=\"dataframe\">\n",
       "  <thead>\n",
       "    <tr style=\"text-align: right;\">\n",
       "      <th></th>\n",
       "      <th>Age</th>\n",
       "      <th>Sex</th>\n",
       "      <th>ChestPainType</th>\n",
       "      <th>RestingBP</th>\n",
       "      <th>Cholesterol</th>\n",
       "      <th>FastingBS</th>\n",
       "      <th>RestingECG</th>\n",
       "      <th>MaxHR</th>\n",
       "      <th>ExerciseAngina</th>\n",
       "      <th>Oldpeak</th>\n",
       "      <th>ST_Slope</th>\n",
       "      <th>HeartDisease</th>\n",
       "    </tr>\n",
       "  </thead>\n",
       "  <tbody>\n",
       "    <tr>\n",
       "      <th>0</th>\n",
       "      <td>-1.432359</td>\n",
       "      <td>M</td>\n",
       "      <td>ATA</td>\n",
       "      <td>0.410685</td>\n",
       "      <td>0.824621</td>\n",
       "      <td>0</td>\n",
       "      <td>Normal</td>\n",
       "      <td>172</td>\n",
       "      <td>N</td>\n",
       "      <td>0.0</td>\n",
       "      <td>Up</td>\n",
       "      <td>0</td>\n",
       "    </tr>\n",
       "    <tr>\n",
       "      <th>1</th>\n",
       "      <td>-0.478223</td>\n",
       "      <td>F</td>\n",
       "      <td>NAP</td>\n",
       "      <td>1.490940</td>\n",
       "      <td>-0.171867</td>\n",
       "      <td>0</td>\n",
       "      <td>Normal</td>\n",
       "      <td>156</td>\n",
       "      <td>N</td>\n",
       "      <td>1.0</td>\n",
       "      <td>Flat</td>\n",
       "      <td>1</td>\n",
       "    </tr>\n",
       "    <tr>\n",
       "      <th>2</th>\n",
       "      <td>-1.750404</td>\n",
       "      <td>M</td>\n",
       "      <td>ATA</td>\n",
       "      <td>-0.129442</td>\n",
       "      <td>0.769768</td>\n",
       "      <td>0</td>\n",
       "      <td>ST</td>\n",
       "      <td>98</td>\n",
       "      <td>N</td>\n",
       "      <td>0.0</td>\n",
       "      <td>Up</td>\n",
       "      <td>0</td>\n",
       "    </tr>\n",
       "    <tr>\n",
       "      <th>3</th>\n",
       "      <td>-0.584238</td>\n",
       "      <td>F</td>\n",
       "      <td>ASY</td>\n",
       "      <td>0.302660</td>\n",
       "      <td>0.138964</td>\n",
       "      <td>0</td>\n",
       "      <td>Normal</td>\n",
       "      <td>108</td>\n",
       "      <td>Y</td>\n",
       "      <td>1.5</td>\n",
       "      <td>Flat</td>\n",
       "      <td>1</td>\n",
       "    </tr>\n",
       "    <tr>\n",
       "      <th>4</th>\n",
       "      <td>0.051853</td>\n",
       "      <td>M</td>\n",
       "      <td>NAP</td>\n",
       "      <td>0.950812</td>\n",
       "      <td>-0.034736</td>\n",
       "      <td>0</td>\n",
       "      <td>Normal</td>\n",
       "      <td>122</td>\n",
       "      <td>N</td>\n",
       "      <td>0.0</td>\n",
       "      <td>Up</td>\n",
       "      <td>0</td>\n",
       "    </tr>\n",
       "  </tbody>\n",
       "</table>\n",
       "</div>"
      ],
      "text/plain": [
       "        Age Sex ChestPainType  RestingBP  Cholesterol  FastingBS RestingECG  \\\n",
       "0 -1.432359   M           ATA   0.410685     0.824621          0     Normal   \n",
       "1 -0.478223   F           NAP   1.490940    -0.171867          0     Normal   \n",
       "2 -1.750404   M           ATA  -0.129442     0.769768          0         ST   \n",
       "3 -0.584238   F           ASY   0.302660     0.138964          0     Normal   \n",
       "4  0.051853   M           NAP   0.950812    -0.034736          0     Normal   \n",
       "\n",
       "   MaxHR ExerciseAngina  Oldpeak ST_Slope HeartDisease  \n",
       "0    172              N      0.0       Up            0  \n",
       "1    156              N      1.0     Flat            1  \n",
       "2     98              N      0.0       Up            0  \n",
       "3    108              Y      1.5     Flat            1  \n",
       "4    122              N      0.0       Up            0  "
      ]
     },
     "execution_count": 45,
     "metadata": {},
     "output_type": "execute_result"
    }
   ],
   "source": [
    "mean= data['Cholesterol'].mean()\n",
    "std=data['Cholesterol'].std()\n",
    "\n",
    "data['Cholesterol']=(data['Cholesterol']-mean)/std\n",
    "data.head()"
   ]
  },
  {
   "cell_type": "markdown",
   "id": "a5537f08",
   "metadata": {},
   "source": [
    "### Normalization: MaxHR"
   ]
  },
  {
   "cell_type": "code",
   "execution_count": 46,
   "id": "2545095e",
   "metadata": {},
   "outputs": [
    {
     "data": {
      "text/html": [
       "<div>\n",
       "<style scoped>\n",
       "    .dataframe tbody tr th:only-of-type {\n",
       "        vertical-align: middle;\n",
       "    }\n",
       "\n",
       "    .dataframe tbody tr th {\n",
       "        vertical-align: top;\n",
       "    }\n",
       "\n",
       "    .dataframe thead th {\n",
       "        text-align: right;\n",
       "    }\n",
       "</style>\n",
       "<table border=\"1\" class=\"dataframe\">\n",
       "  <thead>\n",
       "    <tr style=\"text-align: right;\">\n",
       "      <th></th>\n",
       "      <th>Age</th>\n",
       "      <th>Sex</th>\n",
       "      <th>ChestPainType</th>\n",
       "      <th>RestingBP</th>\n",
       "      <th>Cholesterol</th>\n",
       "      <th>FastingBS</th>\n",
       "      <th>RestingECG</th>\n",
       "      <th>MaxHR</th>\n",
       "      <th>ExerciseAngina</th>\n",
       "      <th>Oldpeak</th>\n",
       "      <th>ST_Slope</th>\n",
       "      <th>HeartDisease</th>\n",
       "    </tr>\n",
       "  </thead>\n",
       "  <tbody>\n",
       "    <tr>\n",
       "      <th>0</th>\n",
       "      <td>-1.432359</td>\n",
       "      <td>M</td>\n",
       "      <td>ATA</td>\n",
       "      <td>0.410685</td>\n",
       "      <td>0.824621</td>\n",
       "      <td>0</td>\n",
       "      <td>Normal</td>\n",
       "      <td>1.382175</td>\n",
       "      <td>N</td>\n",
       "      <td>0.0</td>\n",
       "      <td>Up</td>\n",
       "      <td>0</td>\n",
       "    </tr>\n",
       "    <tr>\n",
       "      <th>1</th>\n",
       "      <td>-0.478223</td>\n",
       "      <td>F</td>\n",
       "      <td>NAP</td>\n",
       "      <td>1.490940</td>\n",
       "      <td>-0.171867</td>\n",
       "      <td>0</td>\n",
       "      <td>Normal</td>\n",
       "      <td>0.753746</td>\n",
       "      <td>N</td>\n",
       "      <td>1.0</td>\n",
       "      <td>Flat</td>\n",
       "      <td>1</td>\n",
       "    </tr>\n",
       "    <tr>\n",
       "      <th>2</th>\n",
       "      <td>-1.750404</td>\n",
       "      <td>M</td>\n",
       "      <td>ATA</td>\n",
       "      <td>-0.129442</td>\n",
       "      <td>0.769768</td>\n",
       "      <td>0</td>\n",
       "      <td>ST</td>\n",
       "      <td>-1.524307</td>\n",
       "      <td>N</td>\n",
       "      <td>0.0</td>\n",
       "      <td>Up</td>\n",
       "      <td>0</td>\n",
       "    </tr>\n",
       "    <tr>\n",
       "      <th>3</th>\n",
       "      <td>-0.584238</td>\n",
       "      <td>F</td>\n",
       "      <td>ASY</td>\n",
       "      <td>0.302660</td>\n",
       "      <td>0.138964</td>\n",
       "      <td>0</td>\n",
       "      <td>Normal</td>\n",
       "      <td>-1.131539</td>\n",
       "      <td>Y</td>\n",
       "      <td>1.5</td>\n",
       "      <td>Flat</td>\n",
       "      <td>1</td>\n",
       "    </tr>\n",
       "    <tr>\n",
       "      <th>4</th>\n",
       "      <td>0.051853</td>\n",
       "      <td>M</td>\n",
       "      <td>NAP</td>\n",
       "      <td>0.950812</td>\n",
       "      <td>-0.034736</td>\n",
       "      <td>0</td>\n",
       "      <td>Normal</td>\n",
       "      <td>-0.581664</td>\n",
       "      <td>N</td>\n",
       "      <td>0.0</td>\n",
       "      <td>Up</td>\n",
       "      <td>0</td>\n",
       "    </tr>\n",
       "  </tbody>\n",
       "</table>\n",
       "</div>"
      ],
      "text/plain": [
       "        Age Sex ChestPainType  RestingBP  Cholesterol  FastingBS RestingECG  \\\n",
       "0 -1.432359   M           ATA   0.410685     0.824621          0     Normal   \n",
       "1 -0.478223   F           NAP   1.490940    -0.171867          0     Normal   \n",
       "2 -1.750404   M           ATA  -0.129442     0.769768          0         ST   \n",
       "3 -0.584238   F           ASY   0.302660     0.138964          0     Normal   \n",
       "4  0.051853   M           NAP   0.950812    -0.034736          0     Normal   \n",
       "\n",
       "      MaxHR ExerciseAngina  Oldpeak ST_Slope HeartDisease  \n",
       "0  1.382175              N      0.0       Up            0  \n",
       "1  0.753746              N      1.0     Flat            1  \n",
       "2 -1.524307              N      0.0       Up            0  \n",
       "3 -1.131539              Y      1.5     Flat            1  \n",
       "4 -0.581664              N      0.0       Up            0  "
      ]
     },
     "execution_count": 46,
     "metadata": {},
     "output_type": "execute_result"
    }
   ],
   "source": [
    "mean= data['MaxHR'].mean()\n",
    "std= data['MaxHR'].std()\n",
    "\n",
    "data['MaxHR']= (data['MaxHR']-mean)/std\n",
    "data.head()"
   ]
  },
  {
   "cell_type": "markdown",
   "id": "d0e3a577",
   "metadata": {},
   "source": [
    "### Normalization: Oldpeak"
   ]
  },
  {
   "cell_type": "code",
   "execution_count": 47,
   "id": "df8d7597",
   "metadata": {},
   "outputs": [
    {
     "data": {
      "text/html": [
       "<div>\n",
       "<style scoped>\n",
       "    .dataframe tbody tr th:only-of-type {\n",
       "        vertical-align: middle;\n",
       "    }\n",
       "\n",
       "    .dataframe tbody tr th {\n",
       "        vertical-align: top;\n",
       "    }\n",
       "\n",
       "    .dataframe thead th {\n",
       "        text-align: right;\n",
       "    }\n",
       "</style>\n",
       "<table border=\"1\" class=\"dataframe\">\n",
       "  <thead>\n",
       "    <tr style=\"text-align: right;\">\n",
       "      <th></th>\n",
       "      <th>Age</th>\n",
       "      <th>Sex</th>\n",
       "      <th>ChestPainType</th>\n",
       "      <th>RestingBP</th>\n",
       "      <th>Cholesterol</th>\n",
       "      <th>FastingBS</th>\n",
       "      <th>RestingECG</th>\n",
       "      <th>MaxHR</th>\n",
       "      <th>ExerciseAngina</th>\n",
       "      <th>Oldpeak</th>\n",
       "      <th>ST_Slope</th>\n",
       "      <th>HeartDisease</th>\n",
       "    </tr>\n",
       "  </thead>\n",
       "  <tbody>\n",
       "    <tr>\n",
       "      <th>0</th>\n",
       "      <td>-1.432359</td>\n",
       "      <td>M</td>\n",
       "      <td>ATA</td>\n",
       "      <td>0.410685</td>\n",
       "      <td>0.824621</td>\n",
       "      <td>0</td>\n",
       "      <td>Normal</td>\n",
       "      <td>1.382175</td>\n",
       "      <td>N</td>\n",
       "      <td>-0.831979</td>\n",
       "      <td>Up</td>\n",
       "      <td>0</td>\n",
       "    </tr>\n",
       "    <tr>\n",
       "      <th>1</th>\n",
       "      <td>-0.478223</td>\n",
       "      <td>F</td>\n",
       "      <td>NAP</td>\n",
       "      <td>1.490940</td>\n",
       "      <td>-0.171867</td>\n",
       "      <td>0</td>\n",
       "      <td>Normal</td>\n",
       "      <td>0.753746</td>\n",
       "      <td>N</td>\n",
       "      <td>0.105606</td>\n",
       "      <td>Flat</td>\n",
       "      <td>1</td>\n",
       "    </tr>\n",
       "    <tr>\n",
       "      <th>2</th>\n",
       "      <td>-1.750404</td>\n",
       "      <td>M</td>\n",
       "      <td>ATA</td>\n",
       "      <td>-0.129442</td>\n",
       "      <td>0.769768</td>\n",
       "      <td>0</td>\n",
       "      <td>ST</td>\n",
       "      <td>-1.524307</td>\n",
       "      <td>N</td>\n",
       "      <td>-0.831979</td>\n",
       "      <td>Up</td>\n",
       "      <td>0</td>\n",
       "    </tr>\n",
       "    <tr>\n",
       "      <th>3</th>\n",
       "      <td>-0.584238</td>\n",
       "      <td>F</td>\n",
       "      <td>ASY</td>\n",
       "      <td>0.302660</td>\n",
       "      <td>0.138964</td>\n",
       "      <td>0</td>\n",
       "      <td>Normal</td>\n",
       "      <td>-1.131539</td>\n",
       "      <td>Y</td>\n",
       "      <td>0.574398</td>\n",
       "      <td>Flat</td>\n",
       "      <td>1</td>\n",
       "    </tr>\n",
       "    <tr>\n",
       "      <th>4</th>\n",
       "      <td>0.051853</td>\n",
       "      <td>M</td>\n",
       "      <td>NAP</td>\n",
       "      <td>0.950812</td>\n",
       "      <td>-0.034736</td>\n",
       "      <td>0</td>\n",
       "      <td>Normal</td>\n",
       "      <td>-0.581664</td>\n",
       "      <td>N</td>\n",
       "      <td>-0.831979</td>\n",
       "      <td>Up</td>\n",
       "      <td>0</td>\n",
       "    </tr>\n",
       "  </tbody>\n",
       "</table>\n",
       "</div>"
      ],
      "text/plain": [
       "        Age Sex ChestPainType  RestingBP  Cholesterol  FastingBS RestingECG  \\\n",
       "0 -1.432359   M           ATA   0.410685     0.824621          0     Normal   \n",
       "1 -0.478223   F           NAP   1.490940    -0.171867          0     Normal   \n",
       "2 -1.750404   M           ATA  -0.129442     0.769768          0         ST   \n",
       "3 -0.584238   F           ASY   0.302660     0.138964          0     Normal   \n",
       "4  0.051853   M           NAP   0.950812    -0.034736          0     Normal   \n",
       "\n",
       "      MaxHR ExerciseAngina   Oldpeak ST_Slope HeartDisease  \n",
       "0  1.382175              N -0.831979       Up            0  \n",
       "1  0.753746              N  0.105606     Flat            1  \n",
       "2 -1.524307              N -0.831979       Up            0  \n",
       "3 -1.131539              Y  0.574398     Flat            1  \n",
       "4 -0.581664              N -0.831979       Up            0  "
      ]
     },
     "execution_count": 47,
     "metadata": {},
     "output_type": "execute_result"
    }
   ],
   "source": [
    "mean= data['Oldpeak'].mean()\n",
    "std= data['Oldpeak'].std()\n",
    "\n",
    "data['Oldpeak']= (data['Oldpeak']-mean)/std\n",
    "data.head()"
   ]
  },
  {
   "cell_type": "markdown",
   "id": "42ee9b80",
   "metadata": {},
   "source": [
    "## Feature Engineering"
   ]
  },
  {
   "cell_type": "markdown",
   "id": "c5f269f0",
   "metadata": {},
   "source": [
    "The dataset includes various categorical features as well, along with some numericals. To fetch the data to the model, the categorical data should be converted to numerical data using encoding techniques. \n",
    "\n",
    "We will create the dummy columns for the categorical data and set positive if the data is true for the respective row."
   ]
  },
  {
   "cell_type": "code",
   "execution_count": 48,
   "id": "ec236ef2",
   "metadata": {},
   "outputs": [
    {
     "data": {
      "text/html": [
       "<div>\n",
       "<style scoped>\n",
       "    .dataframe tbody tr th:only-of-type {\n",
       "        vertical-align: middle;\n",
       "    }\n",
       "\n",
       "    .dataframe tbody tr th {\n",
       "        vertical-align: top;\n",
       "    }\n",
       "\n",
       "    .dataframe thead th {\n",
       "        text-align: right;\n",
       "    }\n",
       "</style>\n",
       "<table border=\"1\" class=\"dataframe\">\n",
       "  <thead>\n",
       "    <tr style=\"text-align: right;\">\n",
       "      <th></th>\n",
       "      <th>Sex</th>\n",
       "      <th>ChestPainType</th>\n",
       "      <th>RestingECG</th>\n",
       "      <th>ExerciseAngina</th>\n",
       "      <th>ST_Slope</th>\n",
       "      <th>Age</th>\n",
       "      <th>RestingBP</th>\n",
       "      <th>Cholesterol</th>\n",
       "      <th>FastingBS</th>\n",
       "      <th>MaxHR</th>\n",
       "      <th>...</th>\n",
       "      <th>HeartDisease</th>\n",
       "      <th>Sex_M</th>\n",
       "      <th>ChestPainType_ATA</th>\n",
       "      <th>ChestPainType_NAP</th>\n",
       "      <th>ChestPainType_TA</th>\n",
       "      <th>RestingECG_Normal</th>\n",
       "      <th>RestingECG_ST</th>\n",
       "      <th>ExerciseAngina_Y</th>\n",
       "      <th>ST_Slope_Flat</th>\n",
       "      <th>ST_Slope_Up</th>\n",
       "    </tr>\n",
       "  </thead>\n",
       "  <tbody>\n",
       "    <tr>\n",
       "      <th>0</th>\n",
       "      <td>M</td>\n",
       "      <td>ATA</td>\n",
       "      <td>Normal</td>\n",
       "      <td>N</td>\n",
       "      <td>Up</td>\n",
       "      <td>-1.432359</td>\n",
       "      <td>0.410685</td>\n",
       "      <td>0.824621</td>\n",
       "      <td>0</td>\n",
       "      <td>1.382175</td>\n",
       "      <td>...</td>\n",
       "      <td>0</td>\n",
       "      <td>1</td>\n",
       "      <td>1</td>\n",
       "      <td>0</td>\n",
       "      <td>0</td>\n",
       "      <td>1</td>\n",
       "      <td>0</td>\n",
       "      <td>0</td>\n",
       "      <td>0</td>\n",
       "      <td>1</td>\n",
       "    </tr>\n",
       "    <tr>\n",
       "      <th>1</th>\n",
       "      <td>F</td>\n",
       "      <td>NAP</td>\n",
       "      <td>Normal</td>\n",
       "      <td>N</td>\n",
       "      <td>Flat</td>\n",
       "      <td>-0.478223</td>\n",
       "      <td>1.490940</td>\n",
       "      <td>-0.171867</td>\n",
       "      <td>0</td>\n",
       "      <td>0.753746</td>\n",
       "      <td>...</td>\n",
       "      <td>1</td>\n",
       "      <td>0</td>\n",
       "      <td>0</td>\n",
       "      <td>1</td>\n",
       "      <td>0</td>\n",
       "      <td>1</td>\n",
       "      <td>0</td>\n",
       "      <td>0</td>\n",
       "      <td>1</td>\n",
       "      <td>0</td>\n",
       "    </tr>\n",
       "    <tr>\n",
       "      <th>2</th>\n",
       "      <td>M</td>\n",
       "      <td>ATA</td>\n",
       "      <td>ST</td>\n",
       "      <td>N</td>\n",
       "      <td>Up</td>\n",
       "      <td>-1.750404</td>\n",
       "      <td>-0.129442</td>\n",
       "      <td>0.769768</td>\n",
       "      <td>0</td>\n",
       "      <td>-1.524307</td>\n",
       "      <td>...</td>\n",
       "      <td>0</td>\n",
       "      <td>1</td>\n",
       "      <td>1</td>\n",
       "      <td>0</td>\n",
       "      <td>0</td>\n",
       "      <td>0</td>\n",
       "      <td>1</td>\n",
       "      <td>0</td>\n",
       "      <td>0</td>\n",
       "      <td>1</td>\n",
       "    </tr>\n",
       "    <tr>\n",
       "      <th>3</th>\n",
       "      <td>F</td>\n",
       "      <td>ASY</td>\n",
       "      <td>Normal</td>\n",
       "      <td>Y</td>\n",
       "      <td>Flat</td>\n",
       "      <td>-0.584238</td>\n",
       "      <td>0.302660</td>\n",
       "      <td>0.138964</td>\n",
       "      <td>0</td>\n",
       "      <td>-1.131539</td>\n",
       "      <td>...</td>\n",
       "      <td>1</td>\n",
       "      <td>0</td>\n",
       "      <td>0</td>\n",
       "      <td>0</td>\n",
       "      <td>0</td>\n",
       "      <td>1</td>\n",
       "      <td>0</td>\n",
       "      <td>1</td>\n",
       "      <td>1</td>\n",
       "      <td>0</td>\n",
       "    </tr>\n",
       "    <tr>\n",
       "      <th>4</th>\n",
       "      <td>M</td>\n",
       "      <td>NAP</td>\n",
       "      <td>Normal</td>\n",
       "      <td>N</td>\n",
       "      <td>Up</td>\n",
       "      <td>0.051853</td>\n",
       "      <td>0.950812</td>\n",
       "      <td>-0.034736</td>\n",
       "      <td>0</td>\n",
       "      <td>-0.581664</td>\n",
       "      <td>...</td>\n",
       "      <td>0</td>\n",
       "      <td>1</td>\n",
       "      <td>0</td>\n",
       "      <td>1</td>\n",
       "      <td>0</td>\n",
       "      <td>1</td>\n",
       "      <td>0</td>\n",
       "      <td>0</td>\n",
       "      <td>0</td>\n",
       "      <td>1</td>\n",
       "    </tr>\n",
       "  </tbody>\n",
       "</table>\n",
       "<p>5 rows × 21 columns</p>\n",
       "</div>"
      ],
      "text/plain": [
       "  Sex ChestPainType RestingECG ExerciseAngina ST_Slope       Age  RestingBP  \\\n",
       "0   M           ATA     Normal              N       Up -1.432359   0.410685   \n",
       "1   F           NAP     Normal              N     Flat -0.478223   1.490940   \n",
       "2   M           ATA         ST              N       Up -1.750404  -0.129442   \n",
       "3   F           ASY     Normal              Y     Flat -0.584238   0.302660   \n",
       "4   M           NAP     Normal              N       Up  0.051853   0.950812   \n",
       "\n",
       "   Cholesterol  FastingBS     MaxHR  ...  HeartDisease Sex_M  \\\n",
       "0     0.824621          0  1.382175  ...             0     1   \n",
       "1    -0.171867          0  0.753746  ...             1     0   \n",
       "2     0.769768          0 -1.524307  ...             0     1   \n",
       "3     0.138964          0 -1.131539  ...             1     0   \n",
       "4    -0.034736          0 -0.581664  ...             0     1   \n",
       "\n",
       "   ChestPainType_ATA  ChestPainType_NAP  ChestPainType_TA  RestingECG_Normal  \\\n",
       "0                  1                  0                 0                  1   \n",
       "1                  0                  1                 0                  1   \n",
       "2                  1                  0                 0                  0   \n",
       "3                  0                  0                 0                  1   \n",
       "4                  0                  1                 0                  1   \n",
       "\n",
       "   RestingECG_ST  ExerciseAngina_Y  ST_Slope_Flat  ST_Slope_Up  \n",
       "0              0                 0              0            1  \n",
       "1              0                 0              1            0  \n",
       "2              1                 0              0            1  \n",
       "3              0                 1              1            0  \n",
       "4              0                 0              0            1  \n",
       "\n",
       "[5 rows x 21 columns]"
      ]
     },
     "execution_count": 48,
     "metadata": {},
     "output_type": "execute_result"
    }
   ],
   "source": [
    "dummy_cols= ['Sex', 'ChestPainType', 'RestingECG', 'ExerciseAngina', 'ST_Slope'] #creating listof  dummy cols for cat. features\n",
    "\n",
    "df_dummies= pd.get_dummies(data, columns= dummy_cols, drop_first= True) # creating dummy columns\n",
    "\n",
    "new_data= pd.concat([data[dummy_cols], df_dummies], axis=1)  # adding dummy cols to original data\n",
    "\n",
    "new_data.head()\n"
   ]
  },
  {
   "cell_type": "code",
   "execution_count": 49,
   "id": "3f7c74e0",
   "metadata": {},
   "outputs": [
    {
     "data": {
      "text/html": [
       "<div>\n",
       "<style scoped>\n",
       "    .dataframe tbody tr th:only-of-type {\n",
       "        vertical-align: middle;\n",
       "    }\n",
       "\n",
       "    .dataframe tbody tr th {\n",
       "        vertical-align: top;\n",
       "    }\n",
       "\n",
       "    .dataframe thead th {\n",
       "        text-align: right;\n",
       "    }\n",
       "</style>\n",
       "<table border=\"1\" class=\"dataframe\">\n",
       "  <thead>\n",
       "    <tr style=\"text-align: right;\">\n",
       "      <th></th>\n",
       "      <th>Age</th>\n",
       "      <th>RestingBP</th>\n",
       "      <th>Cholesterol</th>\n",
       "      <th>FastingBS</th>\n",
       "      <th>MaxHR</th>\n",
       "      <th>Oldpeak</th>\n",
       "      <th>HeartDisease</th>\n",
       "      <th>Sex_M</th>\n",
       "      <th>ChestPainType_ATA</th>\n",
       "      <th>ChestPainType_NAP</th>\n",
       "      <th>ChestPainType_TA</th>\n",
       "      <th>RestingECG_Normal</th>\n",
       "      <th>RestingECG_ST</th>\n",
       "      <th>ExerciseAngina_Y</th>\n",
       "      <th>ST_Slope_Flat</th>\n",
       "      <th>ST_Slope_Up</th>\n",
       "    </tr>\n",
       "  </thead>\n",
       "  <tbody>\n",
       "    <tr>\n",
       "      <th>0</th>\n",
       "      <td>-1.432359</td>\n",
       "      <td>0.410685</td>\n",
       "      <td>0.824621</td>\n",
       "      <td>0</td>\n",
       "      <td>1.382175</td>\n",
       "      <td>-0.831979</td>\n",
       "      <td>0</td>\n",
       "      <td>1</td>\n",
       "      <td>1</td>\n",
       "      <td>0</td>\n",
       "      <td>0</td>\n",
       "      <td>1</td>\n",
       "      <td>0</td>\n",
       "      <td>0</td>\n",
       "      <td>0</td>\n",
       "      <td>1</td>\n",
       "    </tr>\n",
       "    <tr>\n",
       "      <th>1</th>\n",
       "      <td>-0.478223</td>\n",
       "      <td>1.490940</td>\n",
       "      <td>-0.171867</td>\n",
       "      <td>0</td>\n",
       "      <td>0.753746</td>\n",
       "      <td>0.105606</td>\n",
       "      <td>1</td>\n",
       "      <td>0</td>\n",
       "      <td>0</td>\n",
       "      <td>1</td>\n",
       "      <td>0</td>\n",
       "      <td>1</td>\n",
       "      <td>0</td>\n",
       "      <td>0</td>\n",
       "      <td>1</td>\n",
       "      <td>0</td>\n",
       "    </tr>\n",
       "    <tr>\n",
       "      <th>2</th>\n",
       "      <td>-1.750404</td>\n",
       "      <td>-0.129442</td>\n",
       "      <td>0.769768</td>\n",
       "      <td>0</td>\n",
       "      <td>-1.524307</td>\n",
       "      <td>-0.831979</td>\n",
       "      <td>0</td>\n",
       "      <td>1</td>\n",
       "      <td>1</td>\n",
       "      <td>0</td>\n",
       "      <td>0</td>\n",
       "      <td>0</td>\n",
       "      <td>1</td>\n",
       "      <td>0</td>\n",
       "      <td>0</td>\n",
       "      <td>1</td>\n",
       "    </tr>\n",
       "    <tr>\n",
       "      <th>3</th>\n",
       "      <td>-0.584238</td>\n",
       "      <td>0.302660</td>\n",
       "      <td>0.138964</td>\n",
       "      <td>0</td>\n",
       "      <td>-1.131539</td>\n",
       "      <td>0.574398</td>\n",
       "      <td>1</td>\n",
       "      <td>0</td>\n",
       "      <td>0</td>\n",
       "      <td>0</td>\n",
       "      <td>0</td>\n",
       "      <td>1</td>\n",
       "      <td>0</td>\n",
       "      <td>1</td>\n",
       "      <td>1</td>\n",
       "      <td>0</td>\n",
       "    </tr>\n",
       "    <tr>\n",
       "      <th>4</th>\n",
       "      <td>0.051853</td>\n",
       "      <td>0.950812</td>\n",
       "      <td>-0.034736</td>\n",
       "      <td>0</td>\n",
       "      <td>-0.581664</td>\n",
       "      <td>-0.831979</td>\n",
       "      <td>0</td>\n",
       "      <td>1</td>\n",
       "      <td>0</td>\n",
       "      <td>1</td>\n",
       "      <td>0</td>\n",
       "      <td>1</td>\n",
       "      <td>0</td>\n",
       "      <td>0</td>\n",
       "      <td>0</td>\n",
       "      <td>1</td>\n",
       "    </tr>\n",
       "  </tbody>\n",
       "</table>\n",
       "</div>"
      ],
      "text/plain": [
       "        Age  RestingBP  Cholesterol  FastingBS     MaxHR   Oldpeak  \\\n",
       "0 -1.432359   0.410685     0.824621          0  1.382175 -0.831979   \n",
       "1 -0.478223   1.490940    -0.171867          0  0.753746  0.105606   \n",
       "2 -1.750404  -0.129442     0.769768          0 -1.524307 -0.831979   \n",
       "3 -0.584238   0.302660     0.138964          0 -1.131539  0.574398   \n",
       "4  0.051853   0.950812    -0.034736          0 -0.581664 -0.831979   \n",
       "\n",
       "  HeartDisease  Sex_M  ChestPainType_ATA  ChestPainType_NAP  ChestPainType_TA  \\\n",
       "0            0      1                  1                  0                 0   \n",
       "1            1      0                  0                  1                 0   \n",
       "2            0      1                  1                  0                 0   \n",
       "3            1      0                  0                  0                 0   \n",
       "4            0      1                  0                  1                 0   \n",
       "\n",
       "   RestingECG_Normal  RestingECG_ST  ExerciseAngina_Y  ST_Slope_Flat  \\\n",
       "0                  1              0                 0              0   \n",
       "1                  1              0                 0              1   \n",
       "2                  0              1                 0              0   \n",
       "3                  1              0                 1              1   \n",
       "4                  1              0                 0              0   \n",
       "\n",
       "   ST_Slope_Up  \n",
       "0            1  \n",
       "1            0  \n",
       "2            1  \n",
       "3            0  \n",
       "4            1  "
      ]
     },
     "execution_count": 49,
     "metadata": {},
     "output_type": "execute_result"
    }
   ],
   "source": [
    "new_data.drop(dummy_cols, axis=1, inplace=True) # deleting original columns as new information with dummy is stored\n",
    "new_data.head()"
   ]
  },
  {
   "cell_type": "markdown",
   "id": "b1bfa44a",
   "metadata": {},
   "source": [
    "## Machine Learning"
   ]
  },
  {
   "cell_type": "code",
   "execution_count": 50,
   "id": "477e01a4",
   "metadata": {},
   "outputs": [],
   "source": [
    "from sklearn.model_selection import train_test_split"
   ]
  },
  {
   "cell_type": "code",
   "execution_count": 51,
   "id": "8dfb9041",
   "metadata": {},
   "outputs": [],
   "source": [
    "X= new_data.drop('HeartDisease', axis=1)\n",
    "y= new_data['HeartDisease']\n",
    "\n",
    "y = new_data['HeartDisease'].astype('int')\n"
   ]
  },
  {
   "cell_type": "code",
   "execution_count": 52,
   "id": "70cad8d7",
   "metadata": {},
   "outputs": [
    {
     "data": {
      "text/plain": [
       "(918, 12)"
      ]
     },
     "execution_count": 52,
     "metadata": {},
     "output_type": "execute_result"
    }
   ],
   "source": [
    "data.shape"
   ]
  },
  {
   "cell_type": "code",
   "execution_count": 53,
   "id": "68d48acb",
   "metadata": {},
   "outputs": [],
   "source": [
    "X_train, X_test, y_train, y_test= train_test_split(X, y, test_size=0.1, random_state=145)"
   ]
  },
  {
   "cell_type": "code",
   "execution_count": 54,
   "id": "4e946cec",
   "metadata": {},
   "outputs": [
    {
     "data": {
      "text/html": [
       "<div>\n",
       "<style scoped>\n",
       "    .dataframe tbody tr th:only-of-type {\n",
       "        vertical-align: middle;\n",
       "    }\n",
       "\n",
       "    .dataframe tbody tr th {\n",
       "        vertical-align: top;\n",
       "    }\n",
       "\n",
       "    .dataframe thead th {\n",
       "        text-align: right;\n",
       "    }\n",
       "</style>\n",
       "<table border=\"1\" class=\"dataframe\">\n",
       "  <thead>\n",
       "    <tr style=\"text-align: right;\">\n",
       "      <th></th>\n",
       "      <th>Age</th>\n",
       "      <th>RestingBP</th>\n",
       "      <th>Cholesterol</th>\n",
       "      <th>FastingBS</th>\n",
       "      <th>MaxHR</th>\n",
       "      <th>Oldpeak</th>\n",
       "      <th>Sex_M</th>\n",
       "      <th>ChestPainType_ATA</th>\n",
       "      <th>ChestPainType_NAP</th>\n",
       "      <th>ChestPainType_TA</th>\n",
       "      <th>RestingECG_Normal</th>\n",
       "      <th>RestingECG_ST</th>\n",
       "      <th>ExerciseAngina_Y</th>\n",
       "      <th>ST_Slope_Flat</th>\n",
       "      <th>ST_Slope_Up</th>\n",
       "    </tr>\n",
       "  </thead>\n",
       "  <tbody>\n",
       "    <tr>\n",
       "      <th>40</th>\n",
       "      <td>0.051853</td>\n",
       "      <td>0.950812</td>\n",
       "      <td>0.285237</td>\n",
       "      <td>0</td>\n",
       "      <td>-0.267450</td>\n",
       "      <td>-0.831979</td>\n",
       "      <td>0</td>\n",
       "      <td>1</td>\n",
       "      <td>0</td>\n",
       "      <td>0</td>\n",
       "      <td>1</td>\n",
       "      <td>0</td>\n",
       "      <td>0</td>\n",
       "      <td>0</td>\n",
       "      <td>1</td>\n",
       "    </tr>\n",
       "    <tr>\n",
       "      <th>787</th>\n",
       "      <td>1.430049</td>\n",
       "      <td>-1.749824</td>\n",
       "      <td>0.916042</td>\n",
       "      <td>0</td>\n",
       "      <td>-0.463834</td>\n",
       "      <td>0.011847</td>\n",
       "      <td>1</td>\n",
       "      <td>0</td>\n",
       "      <td>0</td>\n",
       "      <td>0</td>\n",
       "      <td>0</td>\n",
       "      <td>0</td>\n",
       "      <td>1</td>\n",
       "      <td>1</td>\n",
       "      <td>0</td>\n",
       "    </tr>\n",
       "    <tr>\n",
       "      <th>285</th>\n",
       "      <td>-0.266193</td>\n",
       "      <td>-1.209697</td>\n",
       "      <td>-0.080446</td>\n",
       "      <td>0</td>\n",
       "      <td>-0.660218</td>\n",
       "      <td>-0.831979</td>\n",
       "      <td>0</td>\n",
       "      <td>0</td>\n",
       "      <td>1</td>\n",
       "      <td>0</td>\n",
       "      <td>1</td>\n",
       "      <td>0</td>\n",
       "      <td>0</td>\n",
       "      <td>0</td>\n",
       "      <td>1</td>\n",
       "    </tr>\n",
       "    <tr>\n",
       "      <th>32</th>\n",
       "      <td>0.051853</td>\n",
       "      <td>-0.399506</td>\n",
       "      <td>0.230385</td>\n",
       "      <td>0</td>\n",
       "      <td>-0.581664</td>\n",
       "      <td>1.043191</td>\n",
       "      <td>1</td>\n",
       "      <td>0</td>\n",
       "      <td>0</td>\n",
       "      <td>0</td>\n",
       "      <td>1</td>\n",
       "      <td>0</td>\n",
       "      <td>0</td>\n",
       "      <td>1</td>\n",
       "      <td>0</td>\n",
       "    </tr>\n",
       "    <tr>\n",
       "      <th>497</th>\n",
       "      <td>0.793959</td>\n",
       "      <td>0.734761</td>\n",
       "      <td>0.385800</td>\n",
       "      <td>0</td>\n",
       "      <td>0.439532</td>\n",
       "      <td>1.980776</td>\n",
       "      <td>1</td>\n",
       "      <td>0</td>\n",
       "      <td>0</td>\n",
       "      <td>0</td>\n",
       "      <td>1</td>\n",
       "      <td>0</td>\n",
       "      <td>1</td>\n",
       "      <td>0</td>\n",
       "      <td>0</td>\n",
       "    </tr>\n",
       "  </tbody>\n",
       "</table>\n",
       "</div>"
      ],
      "text/plain": [
       "          Age  RestingBP  Cholesterol  FastingBS     MaxHR   Oldpeak  Sex_M  \\\n",
       "40   0.051853   0.950812     0.285237          0 -0.267450 -0.831979      0   \n",
       "787  1.430049  -1.749824     0.916042          0 -0.463834  0.011847      1   \n",
       "285 -0.266193  -1.209697    -0.080446          0 -0.660218 -0.831979      0   \n",
       "32   0.051853  -0.399506     0.230385          0 -0.581664  1.043191      1   \n",
       "497  0.793959   0.734761     0.385800          0  0.439532  1.980776      1   \n",
       "\n",
       "     ChestPainType_ATA  ChestPainType_NAP  ChestPainType_TA  \\\n",
       "40                   1                  0                 0   \n",
       "787                  0                  0                 0   \n",
       "285                  0                  1                 0   \n",
       "32                   0                  0                 0   \n",
       "497                  0                  0                 0   \n",
       "\n",
       "     RestingECG_Normal  RestingECG_ST  ExerciseAngina_Y  ST_Slope_Flat  \\\n",
       "40                   1              0                 0              0   \n",
       "787                  0              0                 1              1   \n",
       "285                  1              0                 0              0   \n",
       "32                   1              0                 0              1   \n",
       "497                  1              0                 1              0   \n",
       "\n",
       "     ST_Slope_Up  \n",
       "40             1  \n",
       "787            0  \n",
       "285            1  \n",
       "32             0  \n",
       "497            0  "
      ]
     },
     "execution_count": 54,
     "metadata": {},
     "output_type": "execute_result"
    }
   ],
   "source": [
    "X_train.head()"
   ]
  },
  {
   "cell_type": "code",
   "execution_count": 55,
   "id": "0c16fca0",
   "metadata": {},
   "outputs": [
    {
     "data": {
      "text/html": [
       "<div>\n",
       "<style scoped>\n",
       "    .dataframe tbody tr th:only-of-type {\n",
       "        vertical-align: middle;\n",
       "    }\n",
       "\n",
       "    .dataframe tbody tr th {\n",
       "        vertical-align: top;\n",
       "    }\n",
       "\n",
       "    .dataframe thead th {\n",
       "        text-align: right;\n",
       "    }\n",
       "</style>\n",
       "<table border=\"1\" class=\"dataframe\">\n",
       "  <thead>\n",
       "    <tr style=\"text-align: right;\">\n",
       "      <th></th>\n",
       "      <th>Age</th>\n",
       "      <th>RestingBP</th>\n",
       "      <th>Cholesterol</th>\n",
       "      <th>FastingBS</th>\n",
       "      <th>MaxHR</th>\n",
       "      <th>Oldpeak</th>\n",
       "      <th>Sex_M</th>\n",
       "      <th>ChestPainType_ATA</th>\n",
       "      <th>ChestPainType_NAP</th>\n",
       "      <th>ChestPainType_TA</th>\n",
       "      <th>RestingECG_Normal</th>\n",
       "      <th>RestingECG_ST</th>\n",
       "      <th>ExerciseAngina_Y</th>\n",
       "      <th>ST_Slope_Flat</th>\n",
       "      <th>ST_Slope_Up</th>\n",
       "    </tr>\n",
       "  </thead>\n",
       "  <tbody>\n",
       "    <tr>\n",
       "      <th>355</th>\n",
       "      <td>1.430049</td>\n",
       "      <td>0.680749</td>\n",
       "      <td>-1.817444</td>\n",
       "      <td>0</td>\n",
       "      <td>-0.463834</td>\n",
       "      <td>-0.831979</td>\n",
       "      <td>1</td>\n",
       "      <td>0</td>\n",
       "      <td>0</td>\n",
       "      <td>1</td>\n",
       "      <td>0</td>\n",
       "      <td>0</td>\n",
       "      <td>0</td>\n",
       "      <td>1</td>\n",
       "      <td>0</td>\n",
       "    </tr>\n",
       "    <tr>\n",
       "      <th>685</th>\n",
       "      <td>0.793959</td>\n",
       "      <td>-0.669570</td>\n",
       "      <td>0.559500</td>\n",
       "      <td>0</td>\n",
       "      <td>0.125318</td>\n",
       "      <td>2.543327</td>\n",
       "      <td>1</td>\n",
       "      <td>0</td>\n",
       "      <td>0</td>\n",
       "      <td>0</td>\n",
       "      <td>1</td>\n",
       "      <td>0</td>\n",
       "      <td>1</td>\n",
       "      <td>1</td>\n",
       "      <td>0</td>\n",
       "    </tr>\n",
       "    <tr>\n",
       "      <th>162</th>\n",
       "      <td>-0.690253</td>\n",
       "      <td>1.490940</td>\n",
       "      <td>0.586926</td>\n",
       "      <td>0</td>\n",
       "      <td>1.460728</td>\n",
       "      <td>-0.831979</td>\n",
       "      <td>1</td>\n",
       "      <td>1</td>\n",
       "      <td>0</td>\n",
       "      <td>0</td>\n",
       "      <td>1</td>\n",
       "      <td>0</td>\n",
       "      <td>0</td>\n",
       "      <td>0</td>\n",
       "      <td>1</td>\n",
       "    </tr>\n",
       "    <tr>\n",
       "      <th>265</th>\n",
       "      <td>0.051853</td>\n",
       "      <td>1.490940</td>\n",
       "      <td>0.970894</td>\n",
       "      <td>0</td>\n",
       "      <td>1.500005</td>\n",
       "      <td>-0.831979</td>\n",
       "      <td>1</td>\n",
       "      <td>1</td>\n",
       "      <td>0</td>\n",
       "      <td>0</td>\n",
       "      <td>1</td>\n",
       "      <td>0</td>\n",
       "      <td>0</td>\n",
       "      <td>0</td>\n",
       "      <td>1</td>\n",
       "    </tr>\n",
       "    <tr>\n",
       "      <th>624</th>\n",
       "      <td>1.005989</td>\n",
       "      <td>0.950812</td>\n",
       "      <td>1.903388</td>\n",
       "      <td>0</td>\n",
       "      <td>0.675193</td>\n",
       "      <td>2.918360</td>\n",
       "      <td>0</td>\n",
       "      <td>0</td>\n",
       "      <td>0</td>\n",
       "      <td>0</td>\n",
       "      <td>0</td>\n",
       "      <td>0</td>\n",
       "      <td>0</td>\n",
       "      <td>1</td>\n",
       "      <td>0</td>\n",
       "    </tr>\n",
       "  </tbody>\n",
       "</table>\n",
       "</div>"
      ],
      "text/plain": [
       "          Age  RestingBP  Cholesterol  FastingBS     MaxHR   Oldpeak  Sex_M  \\\n",
       "355  1.430049   0.680749    -1.817444          0 -0.463834 -0.831979      1   \n",
       "685  0.793959  -0.669570     0.559500          0  0.125318  2.543327      1   \n",
       "162 -0.690253   1.490940     0.586926          0  1.460728 -0.831979      1   \n",
       "265  0.051853   1.490940     0.970894          0  1.500005 -0.831979      1   \n",
       "624  1.005989   0.950812     1.903388          0  0.675193  2.918360      0   \n",
       "\n",
       "     ChestPainType_ATA  ChestPainType_NAP  ChestPainType_TA  \\\n",
       "355                  0                  0                 1   \n",
       "685                  0                  0                 0   \n",
       "162                  1                  0                 0   \n",
       "265                  1                  0                 0   \n",
       "624                  0                  0                 0   \n",
       "\n",
       "     RestingECG_Normal  RestingECG_ST  ExerciseAngina_Y  ST_Slope_Flat  \\\n",
       "355                  0              0                 0              1   \n",
       "685                  1              0                 1              1   \n",
       "162                  1              0                 0              0   \n",
       "265                  1              0                 0              0   \n",
       "624                  0              0                 0              1   \n",
       "\n",
       "     ST_Slope_Up  \n",
       "355            0  \n",
       "685            0  \n",
       "162            1  \n",
       "265            1  \n",
       "624            0  "
      ]
     },
     "execution_count": 55,
     "metadata": {},
     "output_type": "execute_result"
    }
   ],
   "source": [
    "X_test.head()"
   ]
  },
  {
   "cell_type": "code",
   "execution_count": 56,
   "id": "97f64bb5",
   "metadata": {},
   "outputs": [
    {
     "data": {
      "text/plain": [
       "(92, 15)"
      ]
     },
     "execution_count": 56,
     "metadata": {},
     "output_type": "execute_result"
    }
   ],
   "source": [
    "X_test.shape"
   ]
  },
  {
   "cell_type": "code",
   "execution_count": 57,
   "id": "4a7e53ae",
   "metadata": {},
   "outputs": [
    {
     "name": "stdout",
     "output_type": "stream",
     "text": [
      "Requirement already satisfied: xgboost in c:\\users\\aryan\\anaconda3\\lib\\site-packages (1.7.6)\n",
      "Requirement already satisfied: scipy in c:\\users\\aryan\\anaconda3\\lib\\site-packages (from xgboost) (1.7.1)\n",
      "Requirement already satisfied: numpy in c:\\users\\aryan\\anaconda3\\lib\\site-packages (from xgboost) (1.20.3)\n"
     ]
    }
   ],
   "source": [
    "!pip install xgboost"
   ]
  },
  {
   "cell_type": "code",
   "execution_count": 58,
   "id": "0b5d3196",
   "metadata": {},
   "outputs": [],
   "source": [
    "from sklearn.linear_model import LogisticRegression\n",
    "from sklearn.svm import SVC\n",
    "from sklearn.tree import DecisionTreeClassifier\n",
    "from sklearn.ensemble import RandomForestClassifier, GradientBoostingClassifier\n",
    "from sklearn.neighbors import KNeighborsClassifier\n",
    "from xgboost import XGBClassifier\n",
    "from sklearn.metrics import confusion_matrix, accuracy_score, classification_report"
   ]
  },
  {
   "cell_type": "markdown",
   "id": "80c4622f",
   "metadata": {},
   "source": [
    "### Logistic Regression"
   ]
  },
  {
   "cell_type": "code",
   "execution_count": 59,
   "id": "864a1b89",
   "metadata": {},
   "outputs": [],
   "source": [
    "log= LogisticRegression()"
   ]
  },
  {
   "cell_type": "code",
   "execution_count": 60,
   "id": "de87f042",
   "metadata": {},
   "outputs": [],
   "source": [
    "log.fit(X_train, y_train)\n",
    "y_hat_log= log.predict(X_test)"
   ]
  },
  {
   "cell_type": "code",
   "execution_count": 61,
   "id": "2b3c4499",
   "metadata": {},
   "outputs": [
    {
     "name": "stdout",
     "output_type": "stream",
     "text": [
      "Accuracy on training Data:  87.53026634382567\n",
      "Accuracy on testing Data:  83.69565217391305\n"
     ]
    }
   ],
   "source": [
    "print('Accuracy on training Data: ',log.score(X_train,y_train)*100)\n",
    "print('Accuracy on testing Data: ',accuracy_score(y_test,y_hat_log)*100)"
   ]
  },
  {
   "cell_type": "code",
   "execution_count": 62,
   "id": "bc044a09",
   "metadata": {},
   "outputs": [
    {
     "data": {
      "image/png": "[encoded data removed]",
      "text/plain": [
       "<Figure size 432x288 with 2 Axes>"
      ]
     },
     "metadata": {
      "needs_background": "light"
     },
     "output_type": "display_data"
    }
   ],
   "source": [
    "con_matrix=confusion_matrix(y_test,y_hat_log)\n",
    "heat_map=sns.heatmap(con_matrix, cmap='coolwarm', annot=True)\n",
    "heat_map.set(xlabel='Predicted value', ylabel=' Actual Value')\n",
    "plt.show()"
   ]
  },
  {
   "cell_type": "code",
   "execution_count": 63,
   "id": "d50f708e",
   "metadata": {},
   "outputs": [
    {
     "name": "stdout",
     "output_type": "stream",
     "text": [
      "              precision    recall  f1-score   support\n",
      "\n",
      "           0       0.91      0.80      0.85        54\n",
      "           1       0.76      0.89      0.82        38\n",
      "\n",
      "    accuracy                           0.84        92\n",
      "   macro avg       0.84      0.85      0.84        92\n",
      "weighted avg       0.85      0.84      0.84        92\n",
      "\n"
     ]
    }
   ],
   "source": [
    "print(classification_report(y_test,y_hat_log))"
   ]
  },
  {
   "cell_type": "markdown",
   "id": "1a0defb3",
   "metadata": {},
   "source": [
    "### Support Vector Classifier (SVC)"
   ]
  },
  {
   "cell_type": "code",
   "execution_count": 64,
   "id": "3367ecfb",
   "metadata": {},
   "outputs": [],
   "source": [
    "svc= SVC()"
   ]
  },
  {
   "cell_type": "code",
   "execution_count": 65,
   "id": "c2258215",
   "metadata": {},
   "outputs": [],
   "source": [
    "svc.fit(X_train, y_train)\n",
    "y_hat_svc= svc.predict(X_test)"
   ]
  },
  {
   "cell_type": "code",
   "execution_count": 66,
   "id": "f90a1202",
   "metadata": {},
   "outputs": [
    {
     "name": "stdout",
     "output_type": "stream",
     "text": [
      "Accuracy of training data 90.4358353510896\n",
      "Accuracy of testing data 85.86956521739131\n"
     ]
    }
   ],
   "source": [
    "print('Accuracy of training data', svc.score(X_train, y_train)*100)\n",
    "print('Accuracy of testing data', accuracy_score(y_test, y_hat_svc)*100)"
   ]
  },
  {
   "cell_type": "code",
   "execution_count": 67,
   "id": "2823eae0",
   "metadata": {},
   "outputs": [
    {
     "data": {
      "image/png": "[encoded data removed]",
      "text/plain": [
       "<Figure size 432x288 with 2 Axes>"
      ]
     },
     "metadata": {
      "needs_background": "light"
     },
     "output_type": "display_data"
    }
   ],
   "source": [
    "con_matrix= confusion_matrix(y_test, y_hat_svc)\n",
    "heat_map=sns.heatmap(con_matrix, cmap='coolwarm', annot=True)\n",
    "heat_map.set(xlabel='Predicted Value', ylabel='Actual Value')\n",
    "plt.show()\n"
   ]
  },
  {
   "cell_type": "code",
   "execution_count": 68,
   "id": "5c0a6622",
   "metadata": {},
   "outputs": [
    {
     "name": "stdout",
     "output_type": "stream",
     "text": [
      "              precision    recall  f1-score   support\n",
      "\n",
      "           0       0.96      0.80      0.87        54\n",
      "           1       0.77      0.95      0.85        38\n",
      "\n",
      "    accuracy                           0.86        92\n",
      "   macro avg       0.86      0.87      0.86        92\n",
      "weighted avg       0.88      0.86      0.86        92\n",
      "\n"
     ]
    }
   ],
   "source": [
    "print(classification_report(y_test, y_hat_svc))"
   ]
  },
  {
   "cell_type": "markdown",
   "id": "87540d28",
   "metadata": {},
   "source": [
    "### Random Forest Classifier"
   ]
  },
  {
   "cell_type": "code",
   "execution_count": 69,
   "id": "a319d40c",
   "metadata": {},
   "outputs": [],
   "source": [
    "rand_forest= RandomForestClassifier()"
   ]
  },
  {
   "cell_type": "code",
   "execution_count": 70,
   "id": "e11c8a58",
   "metadata": {},
   "outputs": [],
   "source": [
    "rand_forest.fit(X_train, y_train)\n",
    "y_hat_rand_forest= rand_forest.predict(X_test)"
   ]
  },
  {
   "cell_type": "code",
   "execution_count": 71,
   "id": "326334ef",
   "metadata": {},
   "outputs": [
    {
     "name": "stdout",
     "output_type": "stream",
     "text": [
      "Accuracy of training dataset 100.0\n",
      "Accuracy of testing data 83.69565217391305\n"
     ]
    }
   ],
   "source": [
    "print('Accuracy of training dataset', rand_forest.score(X_train, y_train)*100)\n",
    "print('Accuracy of testing data',accuracy_score(y_test, y_hat_rand_forest)*100)"
   ]
  },
  {
   "cell_type": "code",
   "execution_count": 72,
   "id": "fa26e7da",
   "metadata": {},
   "outputs": [
    {
     "data": {
      "image/png": "[encoded data removed]",
      "text/plain": [
       "<Figure size 432x288 with 2 Axes>"
      ]
     },
     "metadata": {
      "needs_background": "light"
     },
     "output_type": "display_data"
    }
   ],
   "source": [
    "con_matrix= confusion_matrix(y_test, y_hat_rand_forest)\n",
    "heat_map= sns.heatmap(con_matrix, cmap='coolwarm', annot=True)\n",
    "heat_map.set(xlabel='Predicted value', ylabel='Actual Value')\n",
    "plt.show()"
   ]
  },
  {
   "cell_type": "code",
   "execution_count": 73,
   "id": "869c3439",
   "metadata": {},
   "outputs": [
    {
     "name": "stdout",
     "output_type": "stream",
     "text": [
      "              precision    recall  f1-score   support\n",
      "\n",
      "           0       0.91      0.80      0.85        54\n",
      "           1       0.76      0.89      0.82        38\n",
      "\n",
      "    accuracy                           0.84        92\n",
      "   macro avg       0.84      0.85      0.84        92\n",
      "weighted avg       0.85      0.84      0.84        92\n",
      "\n"
     ]
    }
   ],
   "source": [
    "print(classification_report(y_test, y_hat_rand_forest))"
   ]
  },
  {
   "cell_type": "markdown",
   "id": "58497093",
   "metadata": {},
   "source": [
    "### Decision Tree Classifier"
   ]
  },
  {
   "cell_type": "code",
   "execution_count": 74,
   "id": "3165defc",
   "metadata": {},
   "outputs": [],
   "source": [
    "dec_tree= DecisionTreeClassifier()"
   ]
  },
  {
   "cell_type": "code",
   "execution_count": 75,
   "id": "55ee4a4e",
   "metadata": {},
   "outputs": [],
   "source": [
    "dec_tree.fit(X_train, y_train)\n",
    "y_hat_dec_tree= dec_tree.predict(X_test)"
   ]
  },
  {
   "cell_type": "code",
   "execution_count": 76,
   "id": "201e8a95",
   "metadata": {},
   "outputs": [
    {
     "name": "stdout",
     "output_type": "stream",
     "text": [
      "Accuracy of training dataset 100.0\n",
      "Accuracy of testing data 76.08695652173914\n"
     ]
    }
   ],
   "source": [
    "print('Accuracy of training dataset', dec_tree.score(X_train, y_train)*100)\n",
    "print('Accuracy of testing data',accuracy_score(y_test, y_hat_dec_tree)*100)"
   ]
  },
  {
   "cell_type": "code",
   "execution_count": 77,
   "id": "5a374ae7",
   "metadata": {},
   "outputs": [
    {
     "data": {
      "image/png": "[encoded data removed]",
      "text/plain": [
       "<Figure size 432x288 with 2 Axes>"
      ]
     },
     "metadata": {
      "needs_background": "light"
     },
     "output_type": "display_data"
    }
   ],
   "source": [
    "con_matrix= confusion_matrix(y_test, y_hat_dec_tree)\n",
    "heat_map= sns.heatmap(con_matrix, cmap='coolwarm', annot=True)\n",
    "heat_map.set(xlabel='Predicted value', ylabel='Actual Value')\n",
    "plt.show()"
   ]
  },
  {
   "cell_type": "code",
   "execution_count": 78,
   "id": "7f38d5c1",
   "metadata": {},
   "outputs": [
    {
     "name": "stdout",
     "output_type": "stream",
     "text": [
      "              precision    recall  f1-score   support\n",
      "\n",
      "           0       0.83      0.74      0.78        54\n",
      "           1       0.68      0.79      0.73        38\n",
      "\n",
      "    accuracy                           0.76        92\n",
      "   macro avg       0.76      0.77      0.76        92\n",
      "weighted avg       0.77      0.76      0.76        92\n",
      "\n"
     ]
    }
   ],
   "source": [
    "print(classification_report(y_test, y_hat_dec_tree))"
   ]
  },
  {
   "cell_type": "markdown",
   "id": "dfbcbdd4",
   "metadata": {},
   "source": [
    "### Gradient Boosting Classifier"
   ]
  },
  {
   "cell_type": "code",
   "execution_count": 79,
   "id": "c111408b",
   "metadata": {},
   "outputs": [],
   "source": [
    "grad_boost=GradientBoostingClassifier()"
   ]
  },
  {
   "cell_type": "code",
   "execution_count": 80,
   "id": "33337172",
   "metadata": {},
   "outputs": [],
   "source": [
    "grad_boost.fit(X_train, y_train)\n",
    "y_hat_grad_boost= grad_boost.predict(X_test)"
   ]
  },
  {
   "cell_type": "code",
   "execution_count": 81,
   "id": "f31cb7f9",
   "metadata": {},
   "outputs": [
    {
     "name": "stdout",
     "output_type": "stream",
     "text": [
      "Accuracy of training dataset 93.58353510895884\n",
      "Accuracy of testing data 80.43478260869566\n"
     ]
    }
   ],
   "source": [
    "print('Accuracy of training dataset', grad_boost.score(X_train, y_train)*100)\n",
    "print('Accuracy of testing data',accuracy_score(y_test, y_hat_grad_boost)*100)"
   ]
  },
  {
   "cell_type": "code",
   "execution_count": 82,
   "id": "16b1faec",
   "metadata": {},
   "outputs": [
    {
     "data": {
      "image/png": "[encoded data removed]",
      "text/plain": [
       "<Figure size 432x288 with 2 Axes>"
      ]
     },
     "metadata": {
      "needs_background": "light"
     },
     "output_type": "display_data"
    }
   ],
   "source": [
    "con_matrix= confusion_matrix(y_test, y_hat_grad_boost)\n",
    "heat_map= sns.heatmap(con_matrix, cmap='coolwarm', annot=True)\n",
    "heat_map.set(xlabel='Predicted value', ylabel='Actual Value')\n",
    "plt.show()"
   ]
  },
  {
   "cell_type": "code",
   "execution_count": 83,
   "id": "583bdc94",
   "metadata": {},
   "outputs": [
    {
     "name": "stdout",
     "output_type": "stream",
     "text": [
      "              precision    recall  f1-score   support\n",
      "\n",
      "           0       0.86      0.80      0.83        54\n",
      "           1       0.74      0.82      0.78        38\n",
      "\n",
      "    accuracy                           0.80        92\n",
      "   macro avg       0.80      0.81      0.80        92\n",
      "weighted avg       0.81      0.80      0.81        92\n",
      "\n"
     ]
    }
   ],
   "source": [
    "print(classification_report(y_test, y_hat_grad_boost))"
   ]
  },
  {
   "cell_type": "markdown",
   "id": "a9b8ebe5",
   "metadata": {},
   "source": [
    "### Extreme Gradient Boosting Classifier"
   ]
  },
  {
   "cell_type": "code",
   "execution_count": 84,
   "id": "68900966",
   "metadata": {},
   "outputs": [],
   "source": [
    "ex_boost= XGBClassifier()"
   ]
  },
  {
   "cell_type": "code",
   "execution_count": 85,
   "id": "67d8da1f",
   "metadata": {},
   "outputs": [],
   "source": [
    "ex_boost.fit(X_train, y_train)\n",
    "y_hat_ex_boost= ex_boost.predict(X_test)"
   ]
  },
  {
   "cell_type": "code",
   "execution_count": 86,
   "id": "96c9d41d",
   "metadata": {},
   "outputs": [
    {
     "name": "stdout",
     "output_type": "stream",
     "text": [
      "Accuracy of training dataset 100.0\n",
      "Accuracy of testing data 81.52173913043478\n"
     ]
    }
   ],
   "source": [
    "print('Accuracy of training dataset', ex_boost.score(X_train, y_train)*100)\n",
    "print('Accuracy of testing data',accuracy_score(y_test, y_hat_ex_boost)*100)"
   ]
  },
  {
   "cell_type": "code",
   "execution_count": 87,
   "id": "bd6516c9",
   "metadata": {},
   "outputs": [
    {
     "data": {
      "image/png": "[encoded data removed]",
      "text/plain": [
       "<Figure size 432x288 with 2 Axes>"
      ]
     },
     "metadata": {
      "needs_background": "light"
     },
     "output_type": "display_data"
    }
   ],
   "source": [
    "con_matrix= confusion_matrix(y_test, y_hat_ex_boost)\n",
    "heat_map= sns.heatmap(con_matrix, cmap='coolwarm', annot=True)\n",
    "heat_map.set(xlabel='Predicted value', ylabel='Actual Value')\n",
    "plt.show()"
   ]
  },
  {
   "cell_type": "code",
   "execution_count": 88,
   "id": "241fea94",
   "metadata": {},
   "outputs": [
    {
     "name": "stdout",
     "output_type": "stream",
     "text": [
      "              precision    recall  f1-score   support\n",
      "\n",
      "           0       0.88      0.80      0.83        54\n",
      "           1       0.74      0.84      0.79        38\n",
      "\n",
      "    accuracy                           0.82        92\n",
      "   macro avg       0.81      0.82      0.81        92\n",
      "weighted avg       0.82      0.82      0.82        92\n",
      "\n"
     ]
    }
   ],
   "source": [
    "print(classification_report(y_test, y_hat_ex_boost))"
   ]
  },
  {
   "cell_type": "markdown",
   "id": "25dc60fd",
   "metadata": {},
   "source": [
    "### K Nearest Neighbors (KNN)"
   ]
  },
  {
   "cell_type": "code",
   "execution_count": 89,
   "id": "54305d7a",
   "metadata": {},
   "outputs": [],
   "source": [
    "knn= KNeighborsClassifier(n_neighbors= 10)"
   ]
  },
  {
   "cell_type": "code",
   "execution_count": 90,
   "id": "0650415c",
   "metadata": {},
   "outputs": [],
   "source": [
    "knn.fit(X_train, y_train)\n",
    "y_hat_knn= ex_boost.predict(X_test)"
   ]
  },
  {
   "cell_type": "code",
   "execution_count": 91,
   "id": "3cba10eb",
   "metadata": {},
   "outputs": [
    {
     "name": "stdout",
     "output_type": "stream",
     "text": [
      "Accuracy of training dataset 100.0\n",
      "Accuracy of testing data 81.52173913043478\n"
     ]
    }
   ],
   "source": [
    "print('Accuracy of training dataset', ex_boost.score(X_train, y_train)*100)\n",
    "print('Accuracy of testing data',accuracy_score(y_test, y_hat_ex_boost)*100)"
   ]
  },
  {
   "cell_type": "code",
   "execution_count": 92,
   "id": "3833874d",
   "metadata": {},
   "outputs": [
    {
     "data": {
      "image/png": "[encoded data removed]",
      "text/plain": [
       "<Figure size 432x288 with 2 Axes>"
      ]
     },
     "metadata": {
      "needs_background": "light"
     },
     "output_type": "display_data"
    }
   ],
   "source": [
    "con_matrix= confusion_matrix(y_test, y_hat_knn)\n",
    "heat_map= sns.heatmap(con_matrix, cmap='coolwarm', annot=True)\n",
    "heat_map.set(xlabel='Predicted value', ylabel='Actual Value')\n",
    "plt.show()"
   ]
  },
  {
   "cell_type": "code",
   "execution_count": 93,
   "id": "598d3993",
   "metadata": {},
   "outputs": [
    {
     "name": "stdout",
     "output_type": "stream",
     "text": [
      "              precision    recall  f1-score   support\n",
      "\n",
      "           0       0.88      0.80      0.83        54\n",
      "           1       0.74      0.84      0.79        38\n",
      "\n",
      "    accuracy                           0.82        92\n",
      "   macro avg       0.81      0.82      0.81        92\n",
      "weighted avg       0.82      0.82      0.82        92\n",
      "\n"
     ]
    }
   ],
   "source": [
    "print(classification_report(y_test, y_hat_knn))"
   ]
  },
  {
   "cell_type": "code",
   "execution_count": null,
   "id": "c0187e5a",
   "metadata": {},
   "outputs": [],
   "source": []
  }
 ],
 "metadata": {
  "kernelspec": {
   "display_name": "Python 3 (ipykernel)",
   "language": "python",
   "name": "python3"
  },
  "language_info": {
   "codemirror_mode": {
    "name": "ipython",
    "version": 3
   },
   "file_extension": ".py",
   "mimetype": "text/x-python",
   "name": "python",
   "nbconvert_exporter": "python",
   "pygments_lexer": "ipython3",
   "version": "3.9.7"
  }
 },
 "nbformat": 4,
 "nbformat_minor": 5
}
